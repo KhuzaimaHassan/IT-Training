{
  "nbformat": 4,
  "nbformat_minor": 0,
  "metadata": {
    "colab": {
      "provenance": [],
      "authorship_tag": "ABX9TyM4DmIL4tXXH/2bz21Y57fa",
      "include_colab_link": true
    },
    "kernelspec": {
      "name": "python3",
      "display_name": "Python 3"
    },
    "language_info": {
      "name": "python"
    }
  },
  "cells": [
    {
      "cell_type": "markdown",
      "metadata": {
        "id": "view-in-github",
        "colab_type": "text"
      },
      "source": [
        "<a href=\"https://colab.research.google.com/github/KhuzaimaHassan/IT-Training/blob/main/4th-Class/4th_Class.ipynb\" target=\"_parent\"><img src=\"https://colab.research.google.com/assets/colab-badge.svg\" alt=\"Open In Colab\"/></a>"
      ]
    },
    {
      "cell_type": "code",
      "execution_count": null,
      "metadata": {
        "colab": {
          "base_uri": "https://localhost:8080/"
        },
        "id": "q5P78LCn2glu",
        "outputId": "3be0b726-1b6b-4d68-df3b-5458c9c4c314"
      },
      "outputs": [
        {
          "output_type": "stream",
          "name": "stdout",
          "text": [
            "Hello\n"
          ]
        }
      ],
      "source": [
        "def greet(name):\n",
        "  print('Hello')\n",
        "say_hello=greet\n",
        "say_hello('Hello')"
      ]
    },
    {
      "cell_type": "code",
      "source": [
        "def apply_func(func,value):\n",
        "  return func(value)\n",
        "print(apply_func(lambda x:x*2,10))"
      ],
      "metadata": {
        "colab": {
          "base_uri": "https://localhost:8080/"
        },
        "id": "ubw8_BCq5w5U",
        "outputId": "b9d45c47-332c-481e-c833-f032fa7d7265"
      },
      "execution_count": null,
      "outputs": [
        {
          "output_type": "stream",
          "name": "stdout",
          "text": [
            "20\n"
          ]
        }
      ]
    },
    {
      "cell_type": "code",
      "source": [
        "def multiplier(factor):\n",
        "  def multiply(num):\n",
        "    return num*factor\n",
        "  return multiply\n",
        "multiply5=multiplier(5)\n",
        "print(multiply5(10))"
      ],
      "metadata": {
        "colab": {
          "base_uri": "https://localhost:8080/"
        },
        "id": "i_eFV-e-6HyP",
        "outputId": "732c877e-e19e-4b69-f608-3c29d3a19c3c"
      },
      "execution_count": null,
      "outputs": [
        {
          "output_type": "stream",
          "name": "stdout",
          "text": [
            "50\n"
          ]
        }
      ]
    },
    {
      "cell_type": "code",
      "source": [
        "def factorial(n):\n",
        "  if n==0:\n",
        "    return 1\n",
        "  return n*factorial(n-1)\n",
        "print(factorial(5))"
      ],
      "metadata": {
        "colab": {
          "base_uri": "https://localhost:8080/"
        },
        "id": "Q0vHoqPt6bDO",
        "outputId": "5b113a7f-ee41-4fe9-97a2-abf2b75a6133"
      },
      "execution_count": null,
      "outputs": [
        {
          "output_type": "stream",
          "name": "stdout",
          "text": [
            "120\n"
          ]
        }
      ]
    },
    {
      "cell_type": "code",
      "source": [
        "def greet(name):\n",
        "  \"\"\"Greets a person\"\"\"\n",
        "  print(f'Hello {name}')\n",
        "greet('John')\n",
        "\n",
        "\n",
        "help(greet)"
      ],
      "metadata": {
        "colab": {
          "base_uri": "https://localhost:8080/"
        },
        "id": "FxxenCIE6t6I",
        "outputId": "d3fccdfc-51f3-40a3-9f9c-94ce6f22269a"
      },
      "execution_count": null,
      "outputs": [
        {
          "output_type": "stream",
          "name": "stdout",
          "text": [
            "Hello John\n",
            "Help on function greet in module __main__:\n",
            "\n",
            "greet(name)\n",
            "    Greets a person\n",
            "\n"
          ]
        }
      ]
    },
    {
      "cell_type": "code",
      "source": [
        "#Local Variable\n",
        "def my_function():\n",
        "  x=10\n",
        "  print('Inside Function',x)\n",
        "\n",
        "my_function()"
      ],
      "metadata": {
        "colab": {
          "base_uri": "https://localhost:8080/"
        },
        "id": "g9dJ5FE07AjF",
        "outputId": "9291f17b-19be-4389-89a1-e9b76668fdad"
      },
      "execution_count": null,
      "outputs": [
        {
          "output_type": "stream",
          "name": "stdout",
          "text": [
            "Inside Function 10\n"
          ]
        }
      ]
    },
    {
      "cell_type": "code",
      "source": [
        "#Global Variable\n",
        "y=20\n",
        "def my_function():\n",
        "  print('Inside Function',y)\n",
        "\n",
        "my_function()\n",
        "print('Outside Function',y)"
      ],
      "metadata": {
        "colab": {
          "base_uri": "https://localhost:8080/"
        },
        "id": "3iBBrFqw7qr8",
        "outputId": "6d26a509-779f-4f3f-ecc9-fc4ed7607f6b"
      },
      "execution_count": null,
      "outputs": [
        {
          "output_type": "stream",
          "name": "stdout",
          "text": [
            "Inside Function 20\n",
            "Outside Function 20\n"
          ]
        }
      ]
    },
    {
      "cell_type": "code",
      "source": [
        "z=5\n",
        "def modify_global():\n",
        "  global z\n",
        "  z=10\n",
        "  print('Inside Function',z)\n",
        "\n",
        "modify_global()\n",
        "print('Outside Function',z)"
      ],
      "metadata": {
        "colab": {
          "base_uri": "https://localhost:8080/"
        },
        "id": "LUdwMP5Y7zig",
        "outputId": "245fe972-a011-4ce7-9f58-5924d6d0ca32"
      },
      "execution_count": null,
      "outputs": [
        {
          "output_type": "stream",
          "name": "stdout",
          "text": [
            "Inside Function 10\n",
            "Outside Function 10\n"
          ]
        }
      ]
    },
    {
      "cell_type": "code",
      "source": [
        "\n",
        "def outer():\n",
        "  x=5\n",
        "  def inner():\n",
        "    nonlocal x\n",
        "    x=10\n",
        "  inner()\n",
        "  print('Outer function x:',x)\n",
        "\n",
        "outer()\n"
      ],
      "metadata": {
        "colab": {
          "base_uri": "https://localhost:8080/"
        },
        "id": "yzudVhND8J57",
        "outputId": "0d414475-45f6-4ec6-f722-cc788ff70cb6"
      },
      "execution_count": null,
      "outputs": [
        {
          "output_type": "stream",
          "name": "stdout",
          "text": [
            "Outer function x: 10\n"
          ]
        }
      ]
    },
    {
      "cell_type": "code",
      "source": [
        "y=50\n",
        "\n",
        "def test():\n",
        "  y=10\n",
        "  print(y)\n",
        "\n",
        "test()\n",
        "print(y)"
      ],
      "metadata": {
        "colab": {
          "base_uri": "https://localhost:8080/"
        },
        "id": "ccEDhjEw818c",
        "outputId": "618cc96e-578d-4ca5-cd4a-0c494c1284d2"
      },
      "execution_count": null,
      "outputs": [
        {
          "output_type": "stream",
          "name": "stdout",
          "text": [
            "10\n",
            "50\n"
          ]
        }
      ]
    },
    {
      "cell_type": "code",
      "source": [
        "import numpy as np\n",
        "py_list=[1,2,3,4]\n",
        "np_array=np.array(py_list)\n",
        "\n",
        "print(type(py_list))\n",
        "print(type(np_array))"
      ],
      "metadata": {
        "colab": {
          "base_uri": "https://localhost:8080/"
        },
        "id": "Tl3IJpZr9CYf",
        "outputId": "7171b10f-d975-482a-d697-398ead162a69"
      },
      "execution_count": null,
      "outputs": [
        {
          "output_type": "stream",
          "name": "stdout",
          "text": [
            "<class 'list'>\n",
            "<class 'numpy.ndarray'>\n"
          ]
        }
      ]
    },
    {
      "cell_type": "code",
      "source": [
        "arr_id=np.array([1,2,3,4,5])\n",
        "print(arr_id)"
      ],
      "metadata": {
        "colab": {
          "base_uri": "https://localhost:8080/"
        },
        "id": "dQ6Dgmm39gxD",
        "outputId": "66f21e17-d2f2-4949-c461-f6e2f9c31744"
      },
      "execution_count": null,
      "outputs": [
        {
          "output_type": "stream",
          "name": "stdout",
          "text": [
            "[1 2 3 4 5]\n"
          ]
        }
      ]
    },
    {
      "cell_type": "code",
      "source": [
        "arr_2d=np.array([[1,2,3],[4,5,6]])\n",
        "print(arr_2d)\n",
        "print(arr_2d.ndim)"
      ],
      "metadata": {
        "colab": {
          "base_uri": "https://localhost:8080/"
        },
        "id": "7admq2Eq9t4c",
        "outputId": "8206cd25-2d3c-493b-8a3c-89444cfe98ce"
      },
      "execution_count": null,
      "outputs": [
        {
          "output_type": "stream",
          "name": "stdout",
          "text": [
            "[[1 2 3]\n",
            " [4 5 6]]\n",
            "2\n"
          ]
        }
      ]
    },
    {
      "cell_type": "code",
      "source": [
        "zeros_array=np.zeros((2,3))\n",
        "print(zeros_array)"
      ],
      "metadata": {
        "colab": {
          "base_uri": "https://localhost:8080/"
        },
        "id": "QoE5T99e-BFT",
        "outputId": "05136df5-e694-4f32-ef81-996ff3a0600b"
      },
      "execution_count": null,
      "outputs": [
        {
          "output_type": "stream",
          "name": "stdout",
          "text": [
            "[[0. 0. 0.]\n",
            " [0. 0. 0.]]\n"
          ]
        }
      ]
    },
    {
      "cell_type": "code",
      "source": [
        "ones_array=np.ones((2,3))\n",
        "print(ones_array)\n",
        "print(ones_array.ndim)"
      ],
      "metadata": {
        "colab": {
          "base_uri": "https://localhost:8080/"
        },
        "id": "i0pD_CeB-PSa",
        "outputId": "bce6d575-bd7a-4c20-9a2b-9075b0d7feb9"
      },
      "execution_count": null,
      "outputs": [
        {
          "output_type": "stream",
          "name": "stdout",
          "text": [
            "[[1. 1. 1.]\n",
            " [1. 1. 1.]]\n",
            "2\n"
          ]
        }
      ]
    },
    {
      "cell_type": "code",
      "source": [
        "full_array=np.full((2,3),7)\n",
        "print(full_array)"
      ],
      "metadata": {
        "colab": {
          "base_uri": "https://localhost:8080/"
        },
        "id": "PYx4dG_t-Yjv",
        "outputId": "d834b93b-92da-4cbe-8a4a-291ebcbccd93"
      },
      "execution_count": null,
      "outputs": [
        {
          "output_type": "stream",
          "name": "stdout",
          "text": [
            "[[7 7 7]\n",
            " [7 7 7]]\n"
          ]
        }
      ]
    },
    {
      "cell_type": "code",
      "source": [
        "linespace_array=np.linspace(1,10,5)\n",
        "print(linespace_array)"
      ],
      "metadata": {
        "colab": {
          "base_uri": "https://localhost:8080/"
        },
        "id": "4DYFk8pP-q8P",
        "outputId": "567e9f87-0ed5-4547-d084-9664fcb61913"
      },
      "execution_count": null,
      "outputs": [
        {
          "output_type": "stream",
          "name": "stdout",
          "text": [
            "[ 1.    3.25  5.5   7.75 10.  ]\n"
          ]
        }
      ]
    },
    {
      "cell_type": "code",
      "source": [
        "range_array=np.arange(1,10,2)\n",
        "print(range_array)"
      ],
      "metadata": {
        "colab": {
          "base_uri": "https://localhost:8080/"
        },
        "id": "NBlylsSd_UCG",
        "outputId": "3fbc22b5-cc3c-44eb-e05a-fd33b1ecc131"
      },
      "execution_count": null,
      "outputs": [
        {
          "output_type": "stream",
          "name": "stdout",
          "text": [
            "[1 3 5 7 9]\n"
          ]
        }
      ]
    },
    {
      "cell_type": "code",
      "source": [
        "range_array=np.random.rand(3,3)\n",
        "print(range_array)"
      ],
      "metadata": {
        "colab": {
          "base_uri": "https://localhost:8080/"
        },
        "id": "45yYxAOC-0ao",
        "outputId": "36a7a8f9-a93a-4973-b19d-dacdc5316142"
      },
      "execution_count": null,
      "outputs": [
        {
          "output_type": "stream",
          "name": "stdout",
          "text": [
            "[[0.92903112 0.07972294 0.53339461]\n",
            " [0.56364823 0.23235696 0.73477218]\n",
            " [0.88081015 0.61637308 0.45157549]]\n"
          ]
        }
      ]
    },
    {
      "cell_type": "code",
      "source": [
        "random_int_array=np.random.randint(1,100,(3,3))\n",
        "print(random_int_array)"
      ],
      "metadata": {
        "colab": {
          "base_uri": "https://localhost:8080/"
        },
        "id": "zaLM7q7q_Cnm",
        "outputId": "fae018d8-6c9d-4322-ea27-ab111dffe4a5"
      },
      "execution_count": null,
      "outputs": [
        {
          "output_type": "stream",
          "name": "stdout",
          "text": [
            "[[ 5 89 71]\n",
            " [45  1 19]\n",
            " [95 30 43]]\n"
          ]
        }
      ]
    },
    {
      "cell_type": "code",
      "source": [
        "arr=np.array([[1,2,3,4],[4,4,5,6]])\n",
        "print(arr.shape)\n",
        "print(arr.ndim)\n",
        "print(arr.size)"
      ],
      "metadata": {
        "colab": {
          "base_uri": "https://localhost:8080/"
        },
        "id": "DTljPraB_fIn",
        "outputId": "7f322ee8-14c5-4bdc-aeb1-4ccef8a12b07"
      },
      "execution_count": null,
      "outputs": [
        {
          "output_type": "stream",
          "name": "stdout",
          "text": [
            "(2, 4)\n",
            "2\n",
            "8\n"
          ]
        }
      ]
    },
    {
      "cell_type": "code",
      "source": [
        "arr=np.array([1,2,3,4,5,6])\n",
        "print(arr.ndim)\n",
        "reshaped_arr=arr.reshape(2,3)\n",
        "print(reshaped_arr)\n",
        "print(reshaped_arr.ndim)"
      ],
      "metadata": {
        "colab": {
          "base_uri": "https://localhost:8080/"
        },
        "id": "WxnKiHK5_2zJ",
        "outputId": "ae12a735-b946-4998-c6a3-f8c78ccf373a"
      },
      "execution_count": null,
      "outputs": [
        {
          "output_type": "stream",
          "name": "stdout",
          "text": [
            "1\n",
            "[[1 2 3]\n",
            " [4 5 6]]\n",
            "2\n"
          ]
        }
      ]
    },
    {
      "cell_type": "code",
      "source": [
        "arr=np.array([1,2,3,4,5,6])\n",
        "arr_2=np.array([7,8,9,10,11,12])\n",
        "print(arr+arr_2)\n",
        "print(arr-arr_2)\n",
        "print(arr*arr_2)\n",
        "print(arr/arr_2)"
      ],
      "metadata": {
        "colab": {
          "base_uri": "https://localhost:8080/"
        },
        "id": "1IdFbTcTBC4S",
        "outputId": "68b92cc3-76a9-4cff-c2ce-faea4d1e730b"
      },
      "execution_count": null,
      "outputs": [
        {
          "output_type": "stream",
          "name": "stdout",
          "text": [
            "[ 8 10 12 14 16 18]\n",
            "[-6 -6 -6 -6 -6 -6]\n",
            "[ 7 16 27 40 55 72]\n",
            "[0.14285714 0.25       0.33333333 0.4        0.45454545 0.5       ]\n"
          ]
        }
      ]
    },
    {
      "cell_type": "code",
      "source": [
        "arr=np.array([0,np.pi/2,np.pi])\n",
        "print(arr)\n",
        "print(np.sin(arr))\n",
        "print(np.exp(arr))\n",
        "print(np.sqrt(arr+1))"
      ],
      "metadata": {
        "colab": {
          "base_uri": "https://localhost:8080/"
        },
        "id": "lGE3HO7CAlkE",
        "outputId": "eac647ea-6ae7-46f0-9a29-20f8fe16f630"
      },
      "execution_count": null,
      "outputs": [
        {
          "output_type": "stream",
          "name": "stdout",
          "text": [
            "[0.         1.57079633 3.14159265]\n",
            "[0.0000000e+00 1.0000000e+00 1.2246468e-16]\n",
            "[ 1.          4.81047738 23.14069263]\n",
            "[1.         1.6033703  2.03509033]\n"
          ]
        }
      ]
    },
    {
      "cell_type": "code",
      "source": [
        "arr=np.array([[1,2,3],[4,5,6]])\n",
        "print(np.min(arr))\n",
        "print(np.max(arr))\n",
        "print(np.sum(arr))"
      ],
      "metadata": {
        "colab": {
          "base_uri": "https://localhost:8080/"
        },
        "id": "agLqWUAsBZp7",
        "outputId": "255a0174-f3ff-4057-b405-0cacba9def2b"
      },
      "execution_count": null,
      "outputs": [
        {
          "output_type": "stream",
          "name": "stdout",
          "text": [
            "1\n",
            "6\n",
            "21\n"
          ]
        }
      ]
    },
    {
      "cell_type": "code",
      "source": [
        "arr=np.array([10,20,30,40,50])\n",
        "print(arr[0])\n",
        "print(arr[2])\n",
        "print(arr[-1])\n",
        "print(arr[-3])"
      ],
      "metadata": {
        "colab": {
          "base_uri": "https://localhost:8080/"
        },
        "id": "8O76NQkrBpby",
        "outputId": "dcdfd488-cceb-4b16-ae17-bdcf4fc4175f"
      },
      "execution_count": null,
      "outputs": [
        {
          "output_type": "stream",
          "name": "stdout",
          "text": [
            "10\n",
            "30\n",
            "50\n",
            "30\n"
          ]
        }
      ]
    },
    {
      "cell_type": "code",
      "source": [
        "arr_2d=np.array([[1,2,3],[4,5,6],[7,8,9]])\n",
        "print(arr_2d[0,1])\n",
        "print(arr_2d[2,2])\n",
        "print(arr_2d[-1,0])"
      ],
      "metadata": {
        "colab": {
          "base_uri": "https://localhost:8080/"
        },
        "id": "qsAWLsnSCDeu",
        "outputId": "b2a88dac-dfa8-4cb6-a023-98681e13ac4e"
      },
      "execution_count": null,
      "outputs": [
        {
          "output_type": "stream",
          "name": "stdout",
          "text": [
            "2\n",
            "9\n",
            "7\n"
          ]
        }
      ]
    },
    {
      "cell_type": "code",
      "source": [
        "arr=np.array([10,20,30,40,50,60,70])\n",
        "\n",
        "print(arr[1:5])\n",
        "print(arr[:4])\n",
        "print(arr[3:])\n",
        "print(arr[::2])\n",
        "print(arr[::-1])"
      ],
      "metadata": {
        "colab": {
          "base_uri": "https://localhost:8080/"
        },
        "id": "N3_xIA2pCizy",
        "outputId": "1ad76180-d4b9-4b34-9b09-645b9bf40a42"
      },
      "execution_count": null,
      "outputs": [
        {
          "output_type": "stream",
          "name": "stdout",
          "text": [
            "[20 30 40 50]\n",
            "[10 20 30 40]\n",
            "[40 50 60 70]\n",
            "[10 30 50 70]\n",
            "[70 60 50 40 30 20 10]\n"
          ]
        }
      ]
    },
    {
      "cell_type": "code",
      "source": [
        "arr_2d=np.array([[1,2,3,4],\n",
        "                [5,6,7,8],\n",
        "                [9,10,11,12]])\n",
        "print(arr_2d[0:2,1:3])"
      ],
      "metadata": {
        "colab": {
          "base_uri": "https://localhost:8080/"
        },
        "id": "TBGV11kYDQbq",
        "outputId": "2e4c1387-27d7-46d2-f516-db1ed7236cc1"
      },
      "execution_count": null,
      "outputs": [
        {
          "output_type": "stream",
          "name": "stdout",
          "text": [
            "[[2 3]\n",
            " [6 7]]\n"
          ]
        }
      ]
    },
    {
      "cell_type": "code",
      "source": [
        "print(arr_2d[:,2])\n",
        "print(arr_2d[1,:])\n",
        "print(arr_2d[:,::2])"
      ],
      "metadata": {
        "colab": {
          "base_uri": "https://localhost:8080/"
        },
        "id": "JP-WwQ4EELHD",
        "outputId": "5d5c5caa-eb0e-48e5-b4de-60cd37ccd48c"
      },
      "execution_count": null,
      "outputs": [
        {
          "output_type": "stream",
          "name": "stdout",
          "text": [
            "[ 3  7 11]\n",
            "[5 6 7 8]\n",
            "[[ 1  3]\n",
            " [ 5  7]\n",
            " [ 9 11]]\n"
          ]
        }
      ]
    },
    {
      "cell_type": "code",
      "source": [
        "arr=np.array([10,20,30,40,50])\n",
        "result=np.where(arr>25)\n",
        "print(result)\n",
        "\n",
        "filtered_values=arr[np.where(arr>25)]\n",
        "print(filtered_values)"
      ],
      "metadata": {
        "colab": {
          "base_uri": "https://localhost:8080/"
        },
        "id": "KT3PuCXzErTm",
        "outputId": "8ab2d885-9583-423a-ebc8-6dfd3182b0e6"
      },
      "execution_count": null,
      "outputs": [
        {
          "output_type": "stream",
          "name": "stdout",
          "text": [
            "(array([2, 3, 4]),)\n",
            "[30 40 50]\n"
          ]
        }
      ]
    },
    {
      "cell_type": "code",
      "source": [
        "arr=np.array([10,20,30,40,50])\n",
        "print(np.take(arr,[0,2,4]))"
      ],
      "metadata": {
        "colab": {
          "base_uri": "https://localhost:8080/"
        },
        "id": "hB4VMN1GFXNb",
        "outputId": "3934c54a-75d2-42c2-d9ad-a18c4fdf7e6e"
      },
      "execution_count": null,
      "outputs": [
        {
          "output_type": "stream",
          "name": "stdout",
          "text": [
            "[10 30 50]\n"
          ]
        }
      ]
    },
    {
      "cell_type": "code",
      "source": [
        "arr=np.array([10,20,30,40,50])\n",
        "np.put(arr,[1,3],[99,77])\n",
        "print(arr)"
      ],
      "metadata": {
        "colab": {
          "base_uri": "https://localhost:8080/"
        },
        "id": "dPUX_2odFpcB",
        "outputId": "1ec09a07-f22c-482a-fd40-5cd34af33e01"
      },
      "execution_count": null,
      "outputs": [
        {
          "output_type": "stream",
          "name": "stdout",
          "text": [
            "[10 99 30 77 50]\n"
          ]
        }
      ]
    },
    {
      "cell_type": "code",
      "source": [],
      "metadata": {
        "id": "ox-bfbdoF5yx"
      },
      "execution_count": null,
      "outputs": []
    }
  ]
}