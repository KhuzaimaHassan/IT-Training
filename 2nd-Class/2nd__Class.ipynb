{
  "nbformat": 4,
  "nbformat_minor": 0,
  "metadata": {
    "colab": {
      "provenance": [],
      "authorship_tag": "ABX9TyOZSkBLGbcm7aMGABmConr/",
      "include_colab_link": true
    },
    "kernelspec": {
      "name": "python3",
      "display_name": "Python 3"
    },
    "language_info": {
      "name": "python"
    }
  },
  "cells": [
    {
      "cell_type": "markdown",
      "metadata": {
        "id": "view-in-github",
        "colab_type": "text"
      },
      "source": [
        "<a href=\"https://colab.research.google.com/github/KhuzaimaHassan/IT-Training/blob/main/2nd-Class/2nd__Class.ipynb\" target=\"_parent\"><img src=\"https://colab.research.google.com/assets/colab-badge.svg\" alt=\"Open In Colab\"/></a>"
      ]
    },
    {
      "cell_type": "code",
      "execution_count": null,
      "metadata": {
        "colab": {
          "base_uri": "https://localhost:8080/"
        },
        "id": "GiMcWqvju1hb",
        "outputId": "cc9331f4-71b2-4cc3-ded7-6207efa2d5c8"
      },
      "outputs": [
        {
          "output_type": "stream",
          "name": "stdout",
          "text": [
            "Hello\n"
          ]
        }
      ],
      "source": [
        "if True:\n",
        "  print('Hello')"
      ]
    },
    {
      "cell_type": "code",
      "source": [
        "name='Khuzaima'\n",
        "age=20\n",
        "pi=3.1428\n",
        "print('Name: ', name)\n",
        "print('Age: ',age)\n",
        "print('PI: ', pi)"
      ],
      "metadata": {
        "colab": {
          "base_uri": "https://localhost:8080/"
        },
        "id": "NO7MUZSI3hVt",
        "outputId": "24917027-68ef-4e99-d606-2bc9298b87d6"
      },
      "execution_count": null,
      "outputs": [
        {
          "output_type": "stream",
          "name": "stdout",
          "text": [
            "Name:  Khuzaima\n",
            "Age:  20\n",
            "PI:  3.1428\n"
          ]
        }
      ]
    },
    {
      "cell_type": "code",
      "source": [
        "username=input('Enter username: ')\n",
        "password=input('Enter password: ')\n",
        "age=int(input('Enter age: '))\n",
        "print('Age: ', age)\n",
        "print('Username: ', username)\n",
        "print('Password: ', password)"
      ],
      "metadata": {
        "colab": {
          "base_uri": "https://localhost:8080/"
        },
        "id": "N7dgkFxW3_Yc",
        "outputId": "7d99d8df-6a6d-4595-bd16-83bccafc4321"
      },
      "execution_count": null,
      "outputs": [
        {
          "output_type": "stream",
          "name": "stdout",
          "text": [
            "Enter username: Khuzaima\n",
            "Enter password: 2004\n",
            "Enter age: 20\n",
            "Age:  20\n",
            "Username:  Khuzaima\n",
            "Password:  2004\n"
          ]
        }
      ]
    },
    {
      "cell_type": "code",
      "source": [
        "x=10\n",
        "y=1.10\n",
        "z=2+3j\n",
        "\n",
        "print('Complex Numbers: ',z)\n",
        "print('Real Part: ',z.real)\n",
        "print('Imaginary Part: ',z.imag)"
      ],
      "metadata": {
        "colab": {
          "base_uri": "https://localhost:8080/"
        },
        "id": "APPVOvyQ4oqv",
        "outputId": "21be17c7-82fe-4d32-e3c7-ab8482019459"
      },
      "execution_count": null,
      "outputs": [
        {
          "output_type": "stream",
          "name": "stdout",
          "text": [
            "Complex Numbers:  (2+3j)\n",
            "Real Part:  2.0\n",
            "Imaginary Part:  3.0\n"
          ]
        }
      ]
    },
    {
      "cell_type": "code",
      "source": [
        "text=\"Hello,Python!\"\n",
        "print('first character: ',text[0])\n",
        "print('last character: ',text[-1])\n",
        "\n",
        "word='Hello'+'World'\n",
        "print(word)\n",
        "\n",
        "print('Hello '*3)\n",
        "\n",
        "replace=text.replace('!','?')\n",
        "print(replace)\n",
        "\n",
        "print('lowecase: ',text.lower())\n",
        "print('uppercase: ',text.upper())"
      ],
      "metadata": {
        "colab": {
          "base_uri": "https://localhost:8080/"
        },
        "id": "6mJfLsKF5vW1",
        "outputId": "785ef862-a7b2-49d5-b3d9-67ec43bea425"
      },
      "execution_count": null,
      "outputs": [
        {
          "output_type": "stream",
          "name": "stdout",
          "text": [
            "first character:  H\n",
            "last character:  !\n",
            "HelloWorld\n",
            "Hello Hello Hello \n",
            "Hello,Python?\n",
            "lowecase:  hello,python!\n",
            "uppercase:  HELLO,PYTHON!\n"
          ]
        }
      ]
    },
    {
      "cell_type": "code",
      "source": [
        "list=[1,2,3,4,5]\n",
        "print('List: ',list)\n",
        "list.append(6)\n",
        "print('List: ',list)\n",
        "list.pop()\n",
        "print('List: ',list)\n",
        "print(list[:3])"
      ],
      "metadata": {
        "colab": {
          "base_uri": "https://localhost:8080/"
        },
        "id": "lnJWm_FH6kuE",
        "outputId": "e4784717-42c8-4d2d-ed87-a7cae1b0c221"
      },
      "execution_count": null,
      "outputs": [
        {
          "output_type": "stream",
          "name": "stdout",
          "text": [
            "List:  [1, 2, 3, 4, 5]\n",
            "List:  [1, 2, 3, 4, 5, 6]\n",
            "List:  [1, 2, 3, 4, 5]\n",
            "[1, 2, 3]\n"
          ]
        }
      ]
    },
    {
      "cell_type": "code",
      "source": [
        "coordinates=(10,20,30)\n",
        "print('Coordinates: ',coordinates[-1])\n"
      ],
      "metadata": {
        "colab": {
          "base_uri": "https://localhost:8080/"
        },
        "id": "mZiS4ajD7fGY",
        "outputId": "4edc5d06-935e-4b69-f6c2-cc3323fe1f2e"
      },
      "execution_count": null,
      "outputs": [
        {
          "output_type": "stream",
          "name": "stdout",
          "text": [
            "Coordinates:  30\n"
          ]
        }
      ]
    },
    {
      "cell_type": "code",
      "source": [
        "unique_numbers={1,2,3,4,5}\n",
        "print('Unique Numbers: ',unique_numbers)\n",
        "unique_numbers.add(6)\n",
        "print('Unique Numbers: ',unique_numbers)\n",
        "unique_numbers.remove(1)\n",
        "print('Unique Numbers: ',unique_numbers)\n",
        "unique_numbers.add(2)\n",
        "print('Unique Numbers: ',unique_numbers)"
      ],
      "metadata": {
        "colab": {
          "base_uri": "https://localhost:8080/"
        },
        "id": "QzzG9lTT8Y9t",
        "outputId": "1f54a107-0d41-4178-b863-29c9066e727e"
      },
      "execution_count": null,
      "outputs": [
        {
          "output_type": "stream",
          "name": "stdout",
          "text": [
            "Unique Numbers:  {1, 2, 3, 4, 5}\n",
            "Unique Numbers:  {1, 2, 3, 4, 5, 6}\n",
            "Unique Numbers:  {2, 3, 4, 5, 6}\n",
            "Unique Numbers:  {2, 3, 4, 5, 6}\n"
          ]
        }
      ]
    },
    {
      "cell_type": "code",
      "source": [
        "student={\n",
        "    'name':'Khuzaima',\n",
        "    'age':20,\n",
        "    'grade':'A+'\n",
        "}\n",
        "print('Name: ',student['name'])\n",
        "print('Age: ',student['age'])\n",
        "print('Grade: ',student['grade'])\n",
        "student['Subject']='Python'\n",
        "print('Subject: ',student['Subject'])"
      ],
      "metadata": {
        "colab": {
          "base_uri": "https://localhost:8080/"
        },
        "id": "orIB4zG881_z",
        "outputId": "03ac3e67-f2ab-4f2c-c80d-3f7ffe5e956c"
      },
      "execution_count": null,
      "outputs": [
        {
          "output_type": "stream",
          "name": "stdout",
          "text": [
            "Name:  Khuzaima\n",
            "Age:  20\n",
            "Grade:  A+\n",
            "Subject:  Python\n"
          ]
        }
      ]
    },
    {
      "cell_type": "code",
      "source": [
        "num1=10\n",
        "num2=2.2\n",
        "print('Addition: ',num1+num2)\n",
        "print('Subtraction: ',num1-num2)\n",
        "print('Multiplication: ',num1*num2)\n",
        "print('Division: ',num1/num2)\n",
        "print('Floor Division: ',num1//num2)\n",
        "print('Modulus: ',round(num1%num2,2))\n",
        "print('Exponent: ',round(num1**num2,2))"
      ],
      "metadata": {
        "colab": {
          "base_uri": "https://localhost:8080/"
        },
        "id": "0nw5MgkZ9Xca",
        "outputId": "3dc75273-e3b0-47c3-b10b-1b55ccedfed7"
      },
      "execution_count": null,
      "outputs": [
        {
          "output_type": "stream",
          "name": "stdout",
          "text": [
            "Addition:  12.2\n",
            "Subtraction:  7.8\n",
            "Multiplication:  22.0\n",
            "Division:  4.545454545454545\n",
            "Floor Division:  4.0\n",
            "Modulus:  1.2\n",
            "Exponent:  158.49\n"
          ]
        }
      ]
    },
    {
      "cell_type": "code",
      "source": [
        "num_str='10'\n",
        "num_float=10.1\n",
        "result=int(num_str)+num_float\n",
        "print('Result: ',result)"
      ],
      "metadata": {
        "colab": {
          "base_uri": "https://localhost:8080/"
        },
        "id": "JBU7oHHo-bjf",
        "outputId": "f6f2fb85-e3ae-4ed5-ece8-fa95715b910c"
      },
      "execution_count": null,
      "outputs": [
        {
          "output_type": "stream",
          "name": "stdout",
          "text": [
            "Result:  20.1\n"
          ]
        }
      ]
    },
    {
      "cell_type": "code",
      "source": [
        "p=True\n",
        "q=False\n",
        "print('And ',p and q)\n",
        "print('Or ',p or q)\n",
        "print('Not ',not p)"
      ],
      "metadata": {
        "colab": {
          "base_uri": "https://localhost:8080/"
        },
        "id": "aGBTSI3C-9WG",
        "outputId": "d1244935-b95e-4452-d145-ccb988124605"
      },
      "execution_count": null,
      "outputs": [
        {
          "output_type": "stream",
          "name": "stdout",
          "text": [
            "And  False\n",
            "Or  True\n",
            "Not  False\n"
          ]
        }
      ]
    },
    {
      "cell_type": "code",
      "source": [
        "x=6\n",
        "y=3\n",
        "print('Bitwise AND:',x&y)\n",
        "print('Bitwise OR:',x|y)\n",
        "print('Bitwise XOR:',x^y)\n",
        "print('Bitwise NOT:',~x)\n",
        "print('Left Shift:',x<<2)\n",
        "print('Right Shift:',x>>2)"
      ],
      "metadata": {
        "colab": {
          "base_uri": "https://localhost:8080/"
        },
        "id": "U4TM489t_6If",
        "outputId": "d992894e-9fb7-4866-de58-55cde8aa1f9b"
      },
      "execution_count": null,
      "outputs": [
        {
          "output_type": "stream",
          "name": "stdout",
          "text": [
            "Bitwise AND: 2\n",
            "Bitwise OR: 7\n",
            "Bitwise XOR: 5\n",
            "Bitwise NOT: -7\n",
            "Left Shift: 24\n",
            "Right Shift: 1\n"
          ]
        }
      ]
    },
    {
      "cell_type": "code",
      "source": [
        "numbers=[1,2,3,4,5]\n",
        "print(len(numbers))"
      ],
      "metadata": {
        "colab": {
          "base_uri": "https://localhost:8080/"
        },
        "id": "YCTqsGHaAqTx",
        "outputId": "54b1b340-9115-44f9-cb29-1017fded34fa"
      },
      "execution_count": null,
      "outputs": [
        {
          "output_type": "stream",
          "name": "stdout",
          "text": [
            "5\n"
          ]
        }
      ]
    },
    {
      "cell_type": "code",
      "source": [
        "text='Python is fun'\n",
        "words=text.split()\n",
        "print(words)\n",
        "\n",
        "csv='Name,Age,Grade'\n",
        "csv_list=csv.split(',')\n",
        "print(csv_list)"
      ],
      "metadata": {
        "colab": {
          "base_uri": "https://localhost:8080/"
        },
        "id": "G04JYndlBcHc",
        "outputId": "2777b7c5-6b75-489b-c551-0f143e52b260"
      },
      "execution_count": null,
      "outputs": [
        {
          "output_type": "stream",
          "name": "stdout",
          "text": [
            "['Python', 'is', 'fun']\n",
            "['Name', 'Age', 'Grade']\n"
          ]
        }
      ]
    },
    {
      "cell_type": "code",
      "source": [
        "import random\n",
        "random_number=random.randint(1,10)\n",
        "print('Random Number: ',random_number)"
      ],
      "metadata": {
        "colab": {
          "base_uri": "https://localhost:8080/"
        },
        "id": "LPNdRaWMCVeS",
        "outputId": "48f08724-ea72-4692-c18c-19aa7a7e3614"
      },
      "execution_count": null,
      "outputs": [
        {
          "output_type": "stream",
          "name": "stdout",
          "text": [
            "Random Number:  6\n"
          ]
        }
      ]
    }
  ]
}