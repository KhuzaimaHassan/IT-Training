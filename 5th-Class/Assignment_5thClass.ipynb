{
 "cells": [
  {
   "cell_type": "markdown",
   "metadata": {},
   "source": [
    "1. Automated File Management and Data Export System"
   ]
  },
  {
   "cell_type": "code",
   "execution_count": 7,
   "metadata": {},
   "outputs": [],
   "source": [
    "import os\n",
    "import pandas as pd\n",
    "import glob\n",
    "import shutil"
   ]
  },
  {
   "cell_type": "code",
   "execution_count": 2,
   "metadata": {},
   "outputs": [],
   "source": [
    "os.makedirs(\"csv_files\")"
   ]
  },
  {
   "cell_type": "code",
   "execution_count": 5,
   "metadata": {},
   "outputs": [
    {
     "name": "stdout",
     "output_type": "stream",
     "text": [
      "4 sample CSV files have been created in the 'csv_files' folder.\n"
     ]
    }
   ],
   "source": [
    "data1 = pd.DataFrame({\n",
    "    'Column1': [1, 2, 3],\n",
    "    'Column2': [4, 5, 6]\n",
    "})\n",
    "data1.to_csv(f\"csv_files/sample1.csv\", index=False)\n",
    "\n",
    "data2 = pd.DataFrame({\n",
    "    'Column1': ['a', 'b', 'c'],\n",
    "    'Column2': ['d', 'e', 'f']\n",
    "})\n",
    "data2.to_csv(f\"csv_files/sample2.csv\", index=False)\n",
    "\n",
    "data3 = pd.DataFrame({\n",
    "    'Column1': [7.1, 8.2, 9.3],\n",
    "    'Column2': [10.4, 11.5, 12.6]\n",
    "})\n",
    "data3.to_csv(f\"csv_files/sample3.csv\", index=False)\n",
    "\n",
    "data4 = pd.DataFrame({\n",
    "    'Column1': ['x', 'y', 'z'],\n",
    "    'Column2': [True, False, True]\n",
    "})\n",
    "data4.to_csv(f\"csv_files/sample4.csv\", index=False)\n",
    "\n",
    "print(\"4 sample CSV files have been created in the 'csv_files' folder.\")"
   ]
  },
  {
   "cell_type": "code",
   "execution_count": null,
   "metadata": {},
   "outputs": [
    {
     "name": "stdout",
     "output_type": "stream",
     "text": [
      "Moved file: csv_files\\sample1.csv\n",
      "Moved file: csv_files\\sample2.csv\n",
      "Moved file: csv_files\\sample3.csv\n",
      "Moved file: csv_files\\sample4.csv\n"
     ]
    }
   ],
   "source": [
    "os.makedirs(\"backup_folder\")\n",
    "csv_files = glob.glob(\"csv_files/*.csv\")\n",
    "\n",
    "for file in csv_files:\n",
    "    shutil.move(file, \"backup_folder/\")\n",
    "    print(f\"Moved file: {file}\")"
   ]
  },
  {
   "cell_type": "code",
   "execution_count": 10,
   "metadata": {},
   "outputs": [
    {
     "name": "stdout",
     "output_type": "stream",
     "text": [
      "Data exported to output.csv in CSV format.\n",
      "Data exported to output.json in JSON format.\n"
     ]
    }
   ],
   "source": [
    "import os\n",
    "import glob\n",
    "import shutil\n",
    "import pandas as pd\n",
    "\n",
    "# Move all CSV files to a backup folder\n",
    "csv_files = glob.glob(\"*.csv\")\n",
    "for file in csv_files:\n",
    "    shutil.move(file, \"backup_folder/\")\n",
    "    print(f\"Moved file: {file}\")\n",
    "\n",
    "# Automating Export\n",
    "def export_data(df, filename, file_format):\n",
    "    if file_format == \"csv\":\n",
    "        df.to_csv(filename, index=False)\n",
    "        print(f\"Data exported to {filename} in CSV format.\")\n",
    "    elif file_format == \"json\":\n",
    "        df.to_json(filename, orient=\"records\")\n",
    "        print(f\"Data exported to {filename} in JSON format.\")\n",
    "    else:\n",
    "        print(\"Unsupported format.\")\n",
    "\n",
    "# Example usage:\n",
    "# Creating a sample dataframe\n",
    "data = {\n",
    "    'Name': ['Alice', 'Bob', 'Charlie'],\n",
    "    'Age': [25, 30, 35],\n",
    "    'City': ['New York', 'Los Angeles', 'Chicago']\n",
    "}\n",
    "df = pd.DataFrame(data)\n",
    "\n",
    "# Exporting to CSV\n",
    "export_data(df, \"output.csv\", \"csv\")\n",
    "\n",
    "# Exporting to JSON\n",
    "export_data(df, \"output.json\", \"json\")\n"
   ]
  },
  {
   "cell_type": "markdown",
   "metadata": {},
   "source": [
    "2. Real-Time Stock Market Data Collection and Analysis Using Python and SQLite"
   ]
  },
  {
   "cell_type": "code",
   "execution_count": null,
   "metadata": {},
   "outputs": [
    {
     "name": "stdout",
     "output_type": "stream",
     "text": [
      "Stored data for MSFT\n",
      "Stored data for MSFT\n",
      "Stored data for MSFT\n",
      "Stored data for MSFT\n",
      "Stored data for MSFT\n",
      "   id symbol            timestamp        open       high        low  \\\n",
      "0  10   MSFT  2025-02-20 13:20:57  414.975006  415.01001  414.73999   \n",
      "1   9   MSFT  2025-02-20 13:19:57  414.975006  415.01001  414.73999   \n",
      "2   8   MSFT  2025-02-20 13:18:56  414.975006  415.01001  414.73999   \n",
      "3   7   MSFT  2025-02-20 13:17:56  414.975006  415.01001  414.73999   \n",
      "4   6   MSFT  2025-02-20 13:16:56  414.975006  415.01001  414.73999   \n",
      "5   5   MSFT  2025-02-20 13:06:46  414.975006  415.01001  414.73999   \n",
      "6   4   MSFT  2025-02-20 13:05:46  414.975006  415.01001  414.73999   \n",
      "7   3   MSFT  2025-02-20 13:04:46  414.975006  415.01001  414.73999   \n",
      "8   2   MSFT  2025-02-20 13:03:45  414.975006  415.01001  414.73999   \n",
      "9   1   MSFT  2025-02-20 13:02:45  414.975006  415.01001  414.73999   \n",
      "\n",
      "        close  volume  \n",
      "0  414.820007  262813  \n",
      "1  414.820007  262813  \n",
      "2  414.820007  262813  \n",
      "3  414.820007  262813  \n",
      "4  414.820007  262813  \n",
      "5  414.820007  262813  \n",
      "6  414.820007  262813  \n",
      "7  414.820007  262813  \n",
      "8  414.820007  262813  \n",
      "9  414.820007  262813  \n"
     ]
    }
   ],
   "source": [
    "import yfinance as yf\n",
    "import sqlite3\n",
    "import pandas as pd\n",
    "import time\n",
    "\n",
    "\n",
    "db_name = \"stocks.db\"\n",
    "conn = sqlite3.connect(db_name)\n",
    "cursor = conn.cursor()\n",
    "\n",
    "cursor.execute('''\n",
    "    CREATE TABLE IF NOT EXISTS stock_data (\n",
    "        id INTEGER PRIMARY KEY AUTOINCREMENT,\n",
    "        symbol TEXT,\n",
    "        timestamp DATETIME DEFAULT CURRENT_TIMESTAMP,\n",
    "        open REAL,\n",
    "        high REAL,\n",
    "        low REAL,\n",
    "        close REAL,\n",
    "        volume INTEGER\n",
    "    )\n",
    "''')\n",
    "conn.commit()\n",
    "\n",
    "\n",
    "def fetch_stock_data(symbol):\n",
    "    try:\n",
    "        stock = yf.Ticker(symbol)\n",
    "        data = stock.history(period=\"1d\", interval=\"1m\")\n",
    "        if data.empty:\n",
    "            print(f\"No data found for {symbol}. Skipping...\")\n",
    "            return None  \n",
    "\n",
    "        latest = data.iloc[-1]  \n",
    "        return {\n",
    "            \"symbol\": symbol,\n",
    "            \"open\": latest[\"Open\"],\n",
    "            \"high\": latest[\"High\"],\n",
    "            \"low\": latest[\"Low\"],\n",
    "            \"close\": latest[\"Close\"],\n",
    "            \"volume\": latest[\"Volume\"]\n",
    "        }\n",
    "    except Exception as e:\n",
    "        print(f\"Error fetching data for {symbol}: {e}\")\n",
    "        return None\n",
    "\n",
    "def store_data(symbol):\n",
    "    stock_data = fetch_stock_data(symbol)\n",
    "    if stock_data:  \n",
    "        cursor.execute('''\n",
    "            INSERT INTO stock_data (symbol, open, high, low, close, volume)\n",
    "            VALUES (?, ?, ?, ?, ?, ?)\n",
    "        ''', (\n",
    "            stock_data[\"symbol\"],\n",
    "            stock_data[\"open\"],\n",
    "            stock_data[\"high\"],\n",
    "            stock_data[\"low\"],\n",
    "            stock_data[\"close\"],\n",
    "            stock_data[\"volume\"]\n",
    "        ))\n",
    "        conn.commit()\n",
    "        print(f\"Stored data for {symbol}\")\n",
    "\n",
    "\n",
    "def analyze_stock(symbol):\n",
    "    df = pd.read_sql_query(\n",
    "        \"SELECT * FROM stock_data WHERE symbol=? ORDER BY timestamp DESC LIMIT 100\",\n",
    "        conn,\n",
    "        params=(symbol,)\n",
    "    )\n",
    "    print(df)\n",
    "\n",
    "\n",
    "symbol = \"MSFT\"  \n",
    "for _ in range(5):  \n",
    "    store_data(symbol)\n",
    "    time.sleep(60)  \n",
    "\n",
    "analyze_stock(symbol)\n",
    "\n",
    "\n",
    "conn.close()\n"
   ]
  },
  {
   "cell_type": "markdown",
   "metadata": {},
   "source": [
    "3. Augmented Reality Transformation – Perform linear algebra operations like scaling, rotation, and translation."
   ]
  },
  {
   "cell_type": "code",
   "execution_count": 11,
   "metadata": {},
   "outputs": [
    {
     "name": "stdout",
     "output_type": "stream",
     "text": [
      "Data saved to books.csv\n"
     ]
    }
   ],
   "source": [
    "import requests\n",
    "from bs4 import BeautifulSoup\n",
    "import pandas as pd\n",
    "\n",
    "URL = \"https://example.com\" \n",
    "HEADERS = {\"User-Agent\": \"Mozilla/5.0\"}\n",
    "\n",
    "def get_books(url):\n",
    "    response = requests.get(url, headers=HEADERS)\n",
    "    soup = BeautifulSoup(response.text, \"html.parser\")\n",
    "    books = soup.find_all(\"article\", class_=\"product_pod\")\n",
    "    book_list = []\n",
    "    for book in books:\n",
    "        title = book.h3.a[\"title\"]\n",
    "        price = book.find(\"p\", class_=\"price_color\").text\n",
    "        stock = book.find(\"p\", class_=\"instock availability\").text.strip()\n",
    "        book_list.append({\"Title\": title, \"Price\": price, \"Availability\": stock})\n",
    "    return book_list\n",
    "\n",
    "books_data = get_books(URL)\n",
    "df = pd.DataFrame(books_data)\n",
    "df.to_csv(\"books.csv\", index=False)\n",
    "print(\"Data saved to books.csv\")\n"
   ]
  }
 ],
 "metadata": {
  "kernelspec": {
   "display_name": "Python 3",
   "language": "python",
   "name": "python3"
  },
  "language_info": {
   "codemirror_mode": {
    "name": "ipython",
    "version": 3
   },
   "file_extension": ".py",
   "mimetype": "text/x-python",
   "name": "python",
   "nbconvert_exporter": "python",
   "pygments_lexer": "ipython3",
   "version": "3.13.2"
  }
 },
 "nbformat": 4,
 "nbformat_minor": 2
}
