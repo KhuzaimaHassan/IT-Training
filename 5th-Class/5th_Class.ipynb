{
  "nbformat": 4,
  "nbformat_minor": 0,
  "metadata": {
    "colab": {
      "provenance": [],
      "authorship_tag": "ABX9TyPpgmpaf9i0FtNIEoGG8+EU",
      "include_colab_link": true
    },
    "kernelspec": {
      "name": "python3",
      "display_name": "Python 3"
    },
    "language_info": {
      "name": "python"
    }
  },
  "cells": [
    {
      "cell_type": "markdown",
      "metadata": {
        "id": "view-in-github",
        "colab_type": "text"
      },
      "source": [
        "<a href=\"https://colab.research.google.com/github/KhuzaimaHassan/IT-Training/blob/main/5th-Class/5th_Class.ipynb\" target=\"_parent\"><img src=\"https://colab.research.google.com/assets/colab-badge.svg\" alt=\"Open In Colab\"/></a>"
      ]
    },
    {
      "cell_type": "code",
      "execution_count": null,
      "metadata": {
        "id": "OcUyrJLpdDgd"
      },
      "outputs": [],
      "source": [
        "import pandas as pd\n",
        "import numpy as np"
      ]
    },
    {
      "cell_type": "code",
      "source": [
        "a=np.array([1,2,3,4,5])\n",
        "b=np.array([6,7,8,9,10])\n",
        "\n",
        "dot_product=np.dot(a,b)\n",
        "print(dot_product)"
      ],
      "metadata": {
        "colab": {
          "base_uri": "https://localhost:8080/"
        },
        "id": "pfwKBp7c0WNR",
        "outputId": "54661d83-7dbb-483c-ae8c-3a385e07dbed"
      },
      "execution_count": null,
      "outputs": [
        {
          "output_type": "stream",
          "name": "stdout",
          "text": [
            "130\n"
          ]
        }
      ]
    },
    {
      "cell_type": "code",
      "source": [
        "a=np.array([1,2,3])\n",
        "b=np.array([6,7,8])\n",
        "\n",
        "cross_product=np.cross(a,b)\n",
        "print(cross_product)"
      ],
      "metadata": {
        "colab": {
          "base_uri": "https://localhost:8080/"
        },
        "id": "B-ihZOBG8x2W",
        "outputId": "6a0d7886-54ff-4970-b297-76cb138b85a2"
      },
      "execution_count": null,
      "outputs": [
        {
          "output_type": "stream",
          "name": "stdout",
          "text": [
            "[-5 10 -5]\n"
          ]
        }
      ]
    },
    {
      "cell_type": "code",
      "source": [
        "a=np.array([1,2,3,4,5])\n",
        "b=np.array([6,7,8,9,10])\n",
        "result=a@b\n",
        "result2=np.matmul(a,b)\n",
        "print(result)\n",
        "print(result2)"
      ],
      "metadata": {
        "colab": {
          "base_uri": "https://localhost:8080/"
        },
        "id": "YX-loeXw85_w",
        "outputId": "61f95a83-7f79-4daf-ea94-400e16ee4457"
      },
      "execution_count": null,
      "outputs": [
        {
          "output_type": "stream",
          "name": "stdout",
          "text": [
            "130\n",
            "130\n"
          ]
        }
      ]
    },
    {
      "cell_type": "code",
      "source": [
        "A=np.array([[1,2,3],\n",
        "           [4,5,6]])\n",
        "print(A.T)"
      ],
      "metadata": {
        "colab": {
          "base_uri": "https://localhost:8080/"
        },
        "id": "HRaiXnK79O_i",
        "outputId": "12dd9d35-f0bb-4a44-c8b4-88340abe6995"
      },
      "execution_count": null,
      "outputs": [
        {
          "output_type": "stream",
          "name": "stdout",
          "text": [
            "[[1 4]\n",
            " [2 5]\n",
            " [3 6]]\n"
          ]
        }
      ]
    },
    {
      "cell_type": "code",
      "source": [
        "import cv2\n",
        "import numpy as np\n",
        "from PIL import Image\n",
        "\n",
        "img =cv2.imread()\n",
        "\n",
        "b,g,r=cv2.split(img)\n",
        "\n",
        "bluet=cv2.merge((np.transpose(r),np.transpose(g),np.transpose(b)))\n",
        "img=Image.fromarray(bluet,'RGB')\n",
        "img.save('my.png')\n",
        "img.show()"
      ],
      "metadata": {
        "id": "--pZIldJ9imy"
      },
      "execution_count": null,
      "outputs": []
    },
    {
      "cell_type": "code",
      "source": [
        "A=np.array([[1,2],[3,4]])\n",
        "inverse=np.linalg.inv(A)\n",
        "print(inverse)"
      ],
      "metadata": {
        "colab": {
          "base_uri": "https://localhost:8080/"
        },
        "id": "Fu3JBPDs-Ucf",
        "outputId": "2dc96dac-286d-4614-ed69-18b04c1d6e5a"
      },
      "execution_count": null,
      "outputs": [
        {
          "output_type": "stream",
          "name": "stdout",
          "text": [
            "[[-2.   1. ]\n",
            " [ 1.5 -0.5]]\n"
          ]
        }
      ]
    },
    {
      "cell_type": "code",
      "source": [
        "A=np.array([[1,2],[4,5]])\n",
        "B=np.array([[1,2],[3,4]])\n",
        "result=np.linalg.solve(A,B)\n",
        "print(result)"
      ],
      "metadata": {
        "colab": {
          "base_uri": "https://localhost:8080/"
        },
        "id": "lFJrftlF-ek8",
        "outputId": "fc362c09-0d2d-499b-96a1-909b8045d614"
      },
      "execution_count": null,
      "outputs": [
        {
          "output_type": "stream",
          "name": "stdout",
          "text": [
            "[[ 0.33333333 -0.66666667]\n",
            " [ 0.33333333  1.33333333]]\n"
          ]
        }
      ]
    },
    {
      "cell_type": "code",
      "source": [
        "A=np.array([[1,2],[4,5]])\n",
        "B=np.array([[1,2],[3,4]])\n",
        "\n",
        "concat_axis0=np.concatenate((A,B),axis=0)\n",
        "concat_axis1=np.concatenate((A,B),axis=1)\n",
        "print(concat_axis0)\n",
        "print(concat_axis1)"
      ],
      "metadata": {
        "colab": {
          "base_uri": "https://localhost:8080/"
        },
        "id": "ql3h-GX4-ysS",
        "outputId": "9ea70a6e-016c-410c-e070-41831d45e52d"
      },
      "execution_count": null,
      "outputs": [
        {
          "output_type": "stream",
          "name": "stdout",
          "text": [
            "[[1 2]\n",
            " [4 5]\n",
            " [1 2]\n",
            " [3 4]]\n",
            "[[1 2 1 2]\n",
            " [4 5 3 4]]\n"
          ]
        }
      ]
    },
    {
      "cell_type": "code",
      "source": [
        "A=np.array([1,2,3,4,5,6])\n",
        "\n",
        "split=np.split(A,3)\n",
        "print(split)"
      ],
      "metadata": {
        "colab": {
          "base_uri": "https://localhost:8080/"
        },
        "id": "KPYiAHju_Ne1",
        "outputId": "b01c3880-46e2-43d9-a211-1a60e84e33fb"
      },
      "execution_count": null,
      "outputs": [
        {
          "output_type": "stream",
          "name": "stdout",
          "text": [
            "[array([1, 2]), array([3, 4]), array([5, 6])]\n"
          ]
        }
      ]
    },
    {
      "cell_type": "code",
      "source": [
        "np.hsplit(A,3)"
      ],
      "metadata": {
        "colab": {
          "base_uri": "https://localhost:8080/"
        },
        "id": "alNqmN4q_p4V",
        "outputId": "10112176-8fd0-4af5-a8dd-dac5cff14d0c"
      },
      "execution_count": null,
      "outputs": [
        {
          "output_type": "execute_result",
          "data": {
            "text/plain": [
              "[array([1, 2]), array([3, 4]), array([5, 6])]"
            ]
          },
          "metadata": {},
          "execution_count": 19
        }
      ]
    },
    {
      "cell_type": "code",
      "source": [
        "A=np.array([1,2,3])\n",
        "tile=np.tile(A,(2,3))\n",
        "print(tile)"
      ],
      "metadata": {
        "colab": {
          "base_uri": "https://localhost:8080/"
        },
        "id": "gQN9LiU__9LL",
        "outputId": "20e673e0-188c-46ff-86d6-bfcb3f8d76c6"
      },
      "execution_count": null,
      "outputs": [
        {
          "output_type": "stream",
          "name": "stdout",
          "text": [
            "[[1 2 3 1 2 3 1 2 3]\n",
            " [1 2 3 1 2 3 1 2 3]]\n"
          ]
        }
      ]
    },
    {
      "cell_type": "code",
      "source": [
        "A=np.array([1,2,3])\n",
        "repeat=np.repeat(A,3)\n",
        "print(repeat)"
      ],
      "metadata": {
        "colab": {
          "base_uri": "https://localhost:8080/"
        },
        "id": "rXsD-fR1ALwB",
        "outputId": "aa21a35d-ed9d-478e-e6e3-4af4d3a83095"
      },
      "execution_count": null,
      "outputs": [
        {
          "output_type": "stream",
          "name": "stdout",
          "text": [
            "[1 1 1 2 2 2 3 3 3]\n"
          ]
        }
      ]
    },
    {
      "cell_type": "code",
      "source": [
        "import pandas as pd\n",
        "df=pd.read_csv('/content/sample_data/california_housing_train.csv')\n",
        "#df=pd.read_csv('/content/sample_data/california_housing_train.csv',delimiter=',',encoding=utf8)\n",
        "print(df.head())"
      ],
      "metadata": {
        "colab": {
          "base_uri": "https://localhost:8080/"
        },
        "id": "p69u_hWfAUwN",
        "outputId": "039d1387-10f3-46c2-b777-f4a8c23a7a3e"
      },
      "execution_count": null,
      "outputs": [
        {
          "output_type": "stream",
          "name": "stdout",
          "text": [
            "   longitude  latitude  housing_median_age  total_rooms  total_bedrooms  \\\n",
            "0    -114.31     34.19                15.0       5612.0          1283.0   \n",
            "1    -114.47     34.40                19.0       7650.0          1901.0   \n",
            "2    -114.56     33.69                17.0        720.0           174.0   \n",
            "3    -114.57     33.64                14.0       1501.0           337.0   \n",
            "4    -114.57     33.57                20.0       1454.0           326.0   \n",
            "\n",
            "   population  households  median_income  median_house_value  \n",
            "0      1015.0       472.0         1.4936             66900.0  \n",
            "1      1129.0       463.0         1.8200             80100.0  \n",
            "2       333.0       117.0         1.6509             85700.0  \n",
            "3       515.0       226.0         3.1917             73400.0  \n",
            "4       624.0       262.0         1.9250             65500.0  \n"
          ]
        }
      ]
    },
    {
      "cell_type": "code",
      "source": [
        "df1=pd.read_excel('/content/sample_data/california_housing_train.xlsx')\n",
        "print(df1.head())"
      ],
      "metadata": {
        "colab": {
          "base_uri": "https://localhost:8080/"
        },
        "id": "Q6g-ssF_BpRE",
        "outputId": "1d11dc75-7948-48e6-ca74-eb5602c1ea96"
      },
      "execution_count": null,
      "outputs": [
        {
          "output_type": "stream",
          "name": "stdout",
          "text": [
            "   longitude  latitude  housing_median_age  total_rooms  total_bedrooms  \\\n",
            "0    -114.31     34.19                15.0       5612.0          1283.0   \n",
            "1    -114.47     34.40                19.0       7650.0          1901.0   \n",
            "2    -114.56     33.69                17.0        720.0           174.0   \n",
            "3    -114.57     33.64                14.0       1501.0           337.0   \n",
            "4    -114.57     33.57                20.0       1454.0           326.0   \n",
            "\n",
            "   population  households  median_income  median_house_value  \n",
            "0      1015.0       472.0         1.4936             66900.0  \n",
            "1      1129.0       463.0         1.8200             80100.0  \n",
            "2       333.0       117.0         1.6509             85700.0  \n",
            "3       515.0       226.0         3.1917             73400.0  \n",
            "4       624.0       262.0         1.9250             65500.0  \n"
          ]
        }
      ]
    },
    {
      "cell_type": "code",
      "source": [
        "df2=pd.read_json('/content/sample_data/anscombe.json')\n",
        "print(df2.head())"
      ],
      "metadata": {
        "colab": {
          "base_uri": "https://localhost:8080/"
        },
        "id": "Psteroc7BtTw",
        "outputId": "ac8e26ca-8614-4187-fe7d-4f5fcbf0546f"
      },
      "execution_count": null,
      "outputs": [
        {
          "output_type": "stream",
          "name": "stdout",
          "text": [
            "  Series   X     Y\n",
            "0      I  10  8.04\n",
            "1      I   8  6.95\n",
            "2      I  13  7.58\n",
            "3      I   9  8.81\n",
            "4      I  11  8.33\n"
          ]
        }
      ]
    },
    {
      "cell_type": "code",
      "source": [
        "import sqlite3\n",
        "conn=sqlite3.connect('test.db')\n",
        "print('Opened database successfully')\n",
        "df=pd.read_sql_query('select * from test',conn)\n",
        "print(df.head())"
      ],
      "metadata": {
        "id": "qa6C7hGHCmXx"
      },
      "execution_count": null,
      "outputs": []
    },
    {
      "cell_type": "code",
      "source": [
        "df.to_csv('output.csv',index=False,compression='gzip')\n",
        "df.to_excel('output.xlsx',sheet_name='Sheet1',index=False)\n",
        "df.to_json('output.json',orient='records',indent=4)\n"
      ],
      "metadata": {
        "id": "u19UoP0sC3cq"
      },
      "execution_count": null,
      "outputs": []
    },
    {
      "cell_type": "code",
      "source": [
        "def test(chunk):\n",
        "  print('---------------------')\n",
        "  print(chunk)\n",
        "\n",
        "\n",
        "chunksize=1000\n",
        "for chunk in pd.read_csv('/content/sample_data/california_housing_train.csv',chunksize=chunksize):\n",
        "  test(chunk)"
      ],
      "metadata": {
        "colab": {
          "base_uri": "https://localhost:8080/"
        },
        "id": "u7TB4L15DZtU",
        "outputId": "bf797b1c-8a70-40eb-a198-30819c9b1cd8"
      },
      "execution_count": null,
      "outputs": [
        {
          "output_type": "stream",
          "name": "stdout",
          "text": [
            "---------------------\n",
            "     longitude  latitude  housing_median_age  total_rooms  total_bedrooms  \\\n",
            "0      -114.31     34.19                15.0       5612.0          1283.0   \n",
            "1      -114.47     34.40                19.0       7650.0          1901.0   \n",
            "2      -114.56     33.69                17.0        720.0           174.0   \n",
            "3      -114.57     33.64                14.0       1501.0           337.0   \n",
            "4      -114.57     33.57                20.0       1454.0           326.0   \n",
            "..         ...       ...                 ...          ...             ...   \n",
            "995    -117.09     32.55                 8.0       6533.0          1217.0   \n",
            "996    -117.10     34.57                 6.0       5110.0          1044.0   \n",
            "997    -117.10     34.21                22.0       4397.0           931.0   \n",
            "998    -117.10     34.03                24.0       4144.0           826.0   \n",
            "999    -117.10     33.56                 6.0       1868.0           289.0   \n",
            "\n",
            "     population  households  median_income  median_house_value  \n",
            "0        1015.0       472.0         1.4936             66900.0  \n",
            "1        1129.0       463.0         1.8200             80100.0  \n",
            "2         333.0       117.0         1.6509             85700.0  \n",
            "3         515.0       226.0         3.1917             73400.0  \n",
            "4         624.0       262.0         1.9250             65500.0  \n",
            "..          ...         ...            ...                 ...  \n",
            "995      4797.0      1177.0         3.9583            144400.0  \n",
            "996      1938.0       724.0         3.1917            112800.0  \n",
            "997      1145.0       445.0         4.5268            108400.0  \n",
            "998      2127.0       772.0         2.5172             96000.0  \n",
            "999       750.0       247.0         4.3833            307600.0  \n",
            "\n",
            "[1000 rows x 9 columns]\n",
            "---------------------\n",
            "      longitude  latitude  housing_median_age  total_rooms  total_bedrooms  \\\n",
            "1000    -117.10     33.36                19.0       3518.0           658.0   \n",
            "1001    -117.10     33.17                12.0       2465.0           412.0   \n",
            "1002    -117.10     33.15                 5.0       3159.0           685.0   \n",
            "1003    -117.10     33.14                 7.0      10665.0          2576.0   \n",
            "1004    -117.10     33.12                12.0        961.0           342.0   \n",
            "...         ...       ...                 ...          ...             ...   \n",
            "1995    -117.31     34.02                18.0       1634.0           274.0   \n",
            "1996    -117.31     33.97                28.0       3420.0           691.0   \n",
            "1997    -117.31     33.75                19.0       3173.0           678.0   \n",
            "1998    -117.31     33.67                 9.0        981.0           169.0   \n",
            "1999    -117.31     33.25                14.0       3483.0           764.0   \n",
            "\n",
            "      population  households  median_income  median_house_value  \n",
            "1000      2091.0       610.0         3.2614            168800.0  \n",
            "1001      1226.0       428.0         5.4819            183800.0  \n",
            "1002      1398.0       581.0         3.1467            161100.0  \n",
            "1003      4917.0      2424.0         2.3171            159500.0  \n",
            "1004       315.0       201.0         0.8130            275000.0  \n",
            "...          ...         ...            ...                 ...  \n",
            "1995       899.0       285.0         5.2139            129300.0  \n",
            "1996      1502.0       656.0         3.4896            140300.0  \n",
            "1997      2204.0       606.0         2.1484            129200.0  \n",
            "1998       596.0       156.0         3.1832            157400.0  \n",
            "1999      2140.0       687.0         3.1250            102300.0  \n",
            "\n",
            "[1000 rows x 9 columns]\n",
            "---------------------\n",
            "      longitude  latitude  housing_median_age  total_rooms  total_bedrooms  \\\n",
            "2000    -117.31     33.25                13.0       3075.0           630.0   \n",
            "2001    -117.31     33.19                11.0      20944.0          3753.0   \n",
            "2002    -117.31     33.18                16.0       1835.0           430.0   \n",
            "2003    -117.31     33.16                17.0       1704.0           263.0   \n",
            "2004    -117.31     33.11                 7.0       7974.0          1703.0   \n",
            "...         ...       ...                 ...          ...             ...   \n",
            "2995    -117.79     34.02                 5.0      18690.0          2862.0   \n",
            "2996    -117.79     33.88                17.0       8562.0          1351.0   \n",
            "2997    -117.79     33.84                 9.0      10484.0          1603.0   \n",
            "2998    -117.79     33.80                11.0      10535.0          1620.0   \n",
            "2999    -117.79     33.77                23.0       3596.0           451.0   \n",
            "\n",
            "      population  households  median_income  median_house_value  \n",
            "2000      1843.0       674.0         2.8558             97100.0  \n",
            "2001      8738.0      3441.0         4.3762            215500.0  \n",
            "2002       599.0       399.0         2.0147             87700.0  \n",
            "2003       781.0       281.0         5.6605            224400.0  \n",
            "2004      2904.0      1550.0         4.1282            188100.0  \n",
            "...          ...         ...            ...                 ...  \n",
            "2995      9427.0      2777.0         6.4266            315600.0  \n",
            "2996      3822.0      1316.0         6.0829            252600.0  \n",
            "2997      4005.0      1419.0         8.3931            365300.0  \n",
            "2998      4409.0      1622.0         6.6700            283200.0  \n",
            "2999      1292.0       458.0         8.5403            451300.0  \n",
            "\n",
            "[1000 rows x 9 columns]\n",
            "---------------------\n",
            "      longitude  latitude  housing_median_age  total_rooms  total_bedrooms  \\\n",
            "3000    -117.79     33.77                21.0       4349.0           553.0   \n",
            "3001    -117.79     33.76                25.0       2037.0           252.0   \n",
            "3002    -117.79     33.75                26.0       2955.0           377.0   \n",
            "3003    -117.79     33.75                26.0       2893.0           345.0   \n",
            "3004    -117.79     33.73                 3.0       8240.0          1410.0   \n",
            "...         ...       ...                 ...          ...             ...   \n",
            "3995    -117.96     33.60                34.0        959.0           230.0   \n",
            "3996    -117.97     34.17                35.0       5005.0           848.0   \n",
            "3997    -117.97     34.14                33.0       1328.0           348.0   \n",
            "3998    -117.97     34.14                15.0       3595.0           964.0   \n",
            "3999    -117.97     34.13                42.0        683.0           127.0   \n",
            "\n",
            "      population  households  median_income  median_house_value  \n",
            "3000      1680.0       519.0         6.9014            439000.0  \n",
            "3001       796.0       249.0        11.0546            487200.0  \n",
            "3002      1074.0       373.0         9.3845            500001.0  \n",
            "3003       983.0       326.0        13.4660            500001.0  \n",
            "3004      3318.0      1270.0         7.2074            291300.0  \n",
            "...          ...         ...            ...                 ...  \n",
            "3995       384.0       197.0         5.2333            471400.0  \n",
            "3996      2112.0       813.0         4.9968            295000.0  \n",
            "3997       903.0       329.0         3.1094            136000.0  \n",
            "3998      1839.0       877.0         2.6014            150300.0  \n",
            "3999       541.0       138.0         3.4375            151700.0  \n",
            "\n",
            "[1000 rows x 9 columns]\n",
            "---------------------\n",
            "      longitude  latitude  housing_median_age  total_rooms  total_bedrooms  \\\n",
            "4000    -117.97     34.13                33.0       2038.0           473.0   \n",
            "4001    -117.97     34.11                18.0        123.0            28.0   \n",
            "4002    -117.97     34.10                33.0       1558.0           316.0   \n",
            "4003    -117.97     34.10                26.0       1399.0           277.0   \n",
            "4004    -117.97     34.09                31.0       2779.0           639.0   \n",
            "...         ...       ...                 ...          ...             ...   \n",
            "4995    -118.11     33.88                35.0       1623.0           304.0   \n",
            "4996    -118.11     33.88                19.0       3203.0           708.0   \n",
            "4997    -118.11     33.87                33.0       1379.0           254.0   \n",
            "4998    -118.11     33.86                35.0       1255.0           252.0   \n",
            "4999    -118.11     33.85                36.0        887.0           163.0   \n",
            "\n",
            "      population  households  median_income  median_house_value  \n",
            "4000      1546.0       469.0         3.4777            144500.0  \n",
            "4001       121.0        26.0         3.0417            137500.0  \n",
            "4002      1600.0       338.0         2.9712            143900.0  \n",
            "4003      1285.0       276.0         4.0000            160100.0  \n",
            "4004      2259.0       670.0         3.4032            143400.0  \n",
            "...          ...         ...            ...                 ...  \n",
            "4995       868.0       272.0         3.5893            276000.0  \n",
            "4996      1761.0       667.0         4.0911            239700.0  \n",
            "4997       795.0       297.0         4.6713            231800.0  \n",
            "4998       685.0       279.0         4.2000            226900.0  \n",
            "4999       482.0       157.0         4.1250            219500.0  \n",
            "\n",
            "[1000 rows x 9 columns]\n",
            "---------------------\n",
            "      longitude  latitude  housing_median_age  total_rooms  total_bedrooms  \\\n",
            "5000    -118.11     33.85                36.0       2418.0           389.0   \n",
            "5001    -118.11     33.84                37.0       1588.0           272.0   \n",
            "5002    -118.11     33.84                36.0       1756.0           297.0   \n",
            "5003    -118.11     33.84                36.0       1523.0           263.0   \n",
            "5004    -118.11     33.84                36.0       1463.0           257.0   \n",
            "...         ...       ...                 ...          ...             ...   \n",
            "5995    -118.21     33.81                45.0       1816.0           398.0   \n",
            "5996    -118.21     33.81                45.0       1693.0           337.0   \n",
            "5997    -118.21     33.81                43.0        905.0           199.0   \n",
            "5998    -118.21     33.81                40.0       1815.0           428.0   \n",
            "5999    -118.21     33.80                44.0       1387.0           280.0   \n",
            "\n",
            "      population  households  median_income  median_house_value  \n",
            "5000      1138.0       387.0         4.8393            216300.0  \n",
            "5001       692.0       245.0         4.8594            220300.0  \n",
            "5002       798.0       287.0         5.5581            218300.0  \n",
            "5003       717.0       278.0         4.8750            218900.0  \n",
            "5004       722.0       260.0         4.8438            226300.0  \n",
            "...          ...         ...            ...                 ...  \n",
            "5995      1524.0       388.0         3.8586            157900.0  \n",
            "5996      1255.0       333.0         3.6923            159700.0  \n",
            "5997       764.0       204.0         3.3214            162200.0  \n",
            "5998      1807.0       413.0         3.0882            160700.0  \n",
            "5999       984.0       302.0         4.2500            143100.0  \n",
            "\n",
            "[1000 rows x 9 columns]\n",
            "---------------------\n",
            "      longitude  latitude  housing_median_age  total_rooms  total_bedrooms  \\\n",
            "6000    -118.21     33.79                44.0        121.0            29.0   \n",
            "6001    -118.21     33.79                39.0       1598.0           458.0   \n",
            "6002    -118.21     33.79                33.0         32.0            18.0   \n",
            "6003    -118.22     34.67                28.0       2357.0           408.0   \n",
            "6004    -118.22     34.63                 4.0      14348.0          2145.0   \n",
            "...         ...       ...                 ...          ...             ...   \n",
            "6995    -118.31     33.95                44.0       1558.0           333.0   \n",
            "6996    -118.31     33.95                43.0       1823.0           358.0   \n",
            "6997    -118.31     33.94                44.0       1854.0           367.0   \n",
            "6998    -118.31     33.94                41.0       1353.0           286.0   \n",
            "6999    -118.31     33.94                40.0       1917.0           438.0   \n",
            "\n",
            "      population  households  median_income  median_house_value  \n",
            "6000       153.0        30.0         2.1964            150000.0  \n",
            "6001      1691.0       399.0         2.3605            141800.0  \n",
            "6002        96.0        36.0         4.5938            112500.0  \n",
            "6003      1162.0       384.0         4.3636            179700.0  \n",
            "6004      5839.0      1806.0         5.3799            222400.0  \n",
            "...          ...         ...            ...                 ...  \n",
            "6995      1095.0       316.0         4.0043            133500.0  \n",
            "6996      1065.0       342.0         3.2708            131000.0  \n",
            "6997       976.0       335.0         3.6583            126700.0  \n",
            "6998       751.0       250.0         2.7401            131700.0  \n",
            "6999      1021.0       383.0         2.2448            175000.0  \n",
            "\n",
            "[1000 rows x 9 columns]\n",
            "---------------------\n",
            "      longitude  latitude  housing_median_age  total_rooms  total_bedrooms  \\\n",
            "7000    -118.31     33.94                40.0       1550.0           278.0   \n",
            "7001    -118.31     33.94                40.0       1323.0           243.0   \n",
            "7002    -118.31     33.93                43.0       1834.0           292.0   \n",
            "7003    -118.31     33.93                37.0       1282.0           244.0   \n",
            "7004    -118.31     33.93                35.0       1580.0           266.0   \n",
            "...         ...       ...                 ...          ...             ...   \n",
            "7995    -118.41     33.92                29.0       1436.0           401.0   \n",
            "7996    -118.41     33.92                22.0       2340.0           584.0   \n",
            "7997    -118.41     33.90                39.0       2311.0           404.0   \n",
            "7998    -118.41     33.90                39.0       2040.0           336.0   \n",
            "7999    -118.41     33.89                38.0       4166.0           828.0   \n",
            "\n",
            "      population  households  median_income  median_house_value  \n",
            "7000       798.0       270.0         3.7750            153800.0  \n",
            "7001       684.0       229.0         3.2206            145800.0  \n",
            "7002       997.0       295.0         4.9464            150300.0  \n",
            "7003       852.0       249.0         4.2917            127900.0  \n",
            "7004       926.0       282.0         5.0653            158000.0  \n",
            "...          ...         ...            ...                 ...  \n",
            "7995       674.0       343.0         3.6389            275000.0  \n",
            "7996      1141.0       554.0         4.5729            337500.0  \n",
            "7997      1044.0       380.0         8.4680            472100.0  \n",
            "7998       926.0       351.0         7.5552            500001.0  \n",
            "7999      1600.0       770.0         6.3861            500001.0  \n",
            "\n",
            "[1000 rows x 9 columns]\n",
            "---------------------\n",
            "      longitude  latitude  housing_median_age  total_rooms  total_bedrooms  \\\n",
            "8000    -118.41     33.89                35.0       1194.0           292.0   \n",
            "8001    -118.41     33.89                34.0       2959.0           639.0   \n",
            "8002    -118.41     33.89                31.0        702.0           161.0   \n",
            "8003    -118.41     33.89                31.0       1428.0           320.0   \n",
            "8004    -118.41     33.88                43.0       2492.0           449.0   \n",
            "...         ...       ...                 ...          ...             ...   \n",
            "8995    -118.94     35.39                13.0       3137.0           417.0   \n",
            "8996    -118.94     35.37                37.0       1667.0           362.0   \n",
            "8997    -118.94     35.37                33.0       3372.0           741.0   \n",
            "8998    -118.94     35.37                23.0       1106.0           252.0   \n",
            "8999    -118.94     35.36                19.0       2714.0           512.0   \n",
            "\n",
            "      population  households  median_income  median_house_value  \n",
            "8000       507.0       295.0         9.0812            500001.0  \n",
            "8001      1143.0       593.0         6.3480            500001.0  \n",
            "8002       236.0       144.0         5.0497            500001.0  \n",
            "8003       677.0       331.0         7.2316            500001.0  \n",
            "8004      1033.0       437.0         7.9614            500001.0  \n",
            "...          ...         ...            ...                 ...  \n",
            "8995      1318.0       397.0         7.7751            194100.0  \n",
            "8996       971.0       335.0         2.8750             57400.0  \n",
            "8997      2352.0       704.0         2.0643             57600.0  \n",
            "8998       790.0       230.0         1.8523             59700.0  \n",
            "8999      1823.0       500.0         3.1281             76200.0  \n",
            "\n",
            "[1000 rows x 9 columns]\n",
            "---------------------\n",
            "      longitude  latitude  housing_median_age  total_rooms  total_bedrooms  \\\n",
            "9000    -118.94     34.24                 5.0      10018.0          1233.0   \n",
            "9001    -118.94     34.18                25.0       3502.0           508.0   \n",
            "9002    -118.94     34.18                24.0       3689.0           585.0   \n",
            "9003    -118.94     34.17                16.0       3746.0           508.0   \n",
            "9004    -118.94     34.17                15.0       1679.0           271.0   \n",
            "...         ...       ...                 ...          ...             ...   \n",
            "9995    -119.77     36.75                44.0       1818.0           412.0   \n",
            "9996    -119.77     36.75                39.0       1287.0           332.0   \n",
            "9997    -119.77     36.74                51.0       1454.0           235.0   \n",
            "9998    -119.77     36.74                50.0       1325.0           280.0   \n",
            "9999    -119.77     36.73                45.0       1081.0           241.0   \n",
            "\n",
            "      population  households  median_income  median_house_value  \n",
            "9000      4253.0      1120.0         8.9063            500001.0  \n",
            "9001      1713.0       508.0         5.5181            242100.0  \n",
            "9002      1898.0       581.0         5.9224            239400.0  \n",
            "9003      1556.0       452.0         6.3303            299400.0  \n",
            "9004       928.0       264.0         5.5681            235600.0  \n",
            "...          ...         ...            ...                 ...  \n",
            "9995      1680.0       418.0         1.7083             48300.0  \n",
            "9996      1386.0       306.0         1.5227             46900.0  \n",
            "9997       729.0       252.0         3.3125             70100.0  \n",
            "9998       811.0       281.0         1.8667             62800.0  \n",
            "9999       821.0       230.0         1.7829             52600.0  \n",
            "\n",
            "[1000 rows x 9 columns]\n",
            "---------------------\n",
            "       longitude  latitude  housing_median_age  total_rooms  total_bedrooms  \\\n",
            "10000    -119.77     36.73                44.0       1960.0           393.0   \n",
            "10001    -119.77     36.32                14.0       3400.0           618.0   \n",
            "10002    -119.77     36.31                14.0       3677.0           863.0   \n",
            "10003    -119.77     36.30                24.0       2202.0           471.0   \n",
            "10004    -119.77     35.65                21.0       2403.0           483.0   \n",
            "...          ...       ...                 ...          ...             ...   \n",
            "10995    -120.94     40.17                22.0       1334.0           261.0   \n",
            "10996    -120.94     40.14                31.0       3127.0           664.0   \n",
            "10997    -120.94     39.22                12.0       1321.0           268.0   \n",
            "10998    -120.94     39.05                 8.0       3758.0           717.0   \n",
            "10999    -120.94     37.74                35.0       1166.0           268.0   \n",
            "\n",
            "       population  households  median_income  median_house_value  \n",
            "10000      1286.0       381.0         2.1518             53000.0  \n",
            "10001      1867.0       612.0         3.9926             92500.0  \n",
            "10002      2191.0       785.0         2.6218             69100.0  \n",
            "10003      1052.0       439.0         2.1038             62000.0  \n",
            "10004      1647.0       415.0         2.6066             80000.0  \n",
            "...           ...         ...            ...                 ...  \n",
            "10995       597.0       222.0         2.2132             89200.0  \n",
            "10996      1345.0       580.0         1.5774             58000.0  \n",
            "10997       661.0       232.0         4.0062            153800.0  \n",
            "10998      1744.0       661.0         3.1972            151500.0  \n",
            "10999       515.0       266.0         2.3469             90200.0  \n",
            "\n",
            "[1000 rows x 9 columns]\n",
            "---------------------\n",
            "       longitude  latitude  housing_median_age  total_rooms  total_bedrooms  \\\n",
            "11000    -120.94     37.70                25.0       1005.0           159.0   \n",
            "11001    -120.94     37.68                 4.0      13315.0          2424.0   \n",
            "11002    -120.94     37.66                17.0       1147.0           140.0   \n",
            "11003    -120.94     37.65                13.0       5075.0           978.0   \n",
            "11004    -120.94     37.63                43.0        244.0            52.0   \n",
            "...          ...       ...                 ...          ...             ...   \n",
            "11995    -121.39     38.59                33.0       2091.0           468.0   \n",
            "11996    -121.39     38.58                41.0       2577.0           365.0   \n",
            "11997    -121.39     38.58                36.0       2019.0           369.0   \n",
            "11998    -121.39     38.57                33.0       2648.0           357.0   \n",
            "11999    -121.39     38.56                19.0       8507.0          1470.0   \n",
            "\n",
            "       population  households  median_income  median_house_value  \n",
            "11000       390.0       139.0         4.4000            174100.0  \n",
            "11001      6420.0      2289.0         4.2471            162100.0  \n",
            "11002       327.0       136.0         6.8654            290500.0  \n",
            "11003      3033.0       838.0         3.0577            119000.0  \n",
            "11004       176.0        60.0         1.4250             69400.0  \n",
            "...           ...         ...            ...                 ...  \n",
            "11995      1053.0       470.0         2.2264            108100.0  \n",
            "11996       913.0       339.0         6.3406            448300.0  \n",
            "11997       878.0       356.0         2.8462             93400.0  \n",
            "11998       863.0       359.0         8.4016            338700.0  \n",
            "11999      3517.0      1453.0         4.3644            137400.0  \n",
            "\n",
            "[1000 rows x 9 columns]\n",
            "---------------------\n",
            "       longitude  latitude  housing_median_age  total_rooms  total_bedrooms  \\\n",
            "12000    -121.39     38.55                25.0       2171.0           431.0   \n",
            "12001    -121.39     38.55                18.0       1734.0           467.0   \n",
            "12002    -121.39     38.51                19.0       1808.0           375.0   \n",
            "12003    -121.39     38.43                 3.0       2696.0           384.0   \n",
            "12004    -121.39     36.16                28.0       1057.0           249.0   \n",
            "...          ...       ...                 ...          ...             ...   \n",
            "12995    -121.85     37.33                16.0       2987.0           874.0   \n",
            "12996    -121.85     37.30                19.0       6275.0          1546.0   \n",
            "12997    -121.85     37.28                17.0       4208.0           954.0   \n",
            "12998    -121.85     37.27                17.0       1957.0           261.0   \n",
            "12999    -121.85     37.26                16.0       2312.0           303.0   \n",
            "\n",
            "       population  households  median_income  median_house_value  \n",
            "12000      1053.0       422.0         3.5278            126200.0  \n",
            "12001       783.0       447.0         1.9044            154300.0  \n",
            "12002       758.0       320.0         2.0062             92000.0  \n",
            "12003       990.0       316.0         5.4445            237600.0  \n",
            "12004       288.0       130.0         3.0526            146900.0  \n",
            "...           ...         ...            ...                 ...  \n",
            "12995      4241.0       841.0         2.8024            127900.0  \n",
            "12996      4312.0      1466.0         2.7768            178600.0  \n",
            "12997      1476.0       904.0         2.3971             87500.0  \n",
            "12998       863.0       269.0         7.3339            294200.0  \n",
            "12999      1158.0       295.0         7.4323            311800.0  \n",
            "\n",
            "[1000 rows x 9 columns]\n",
            "---------------------\n",
            "       longitude  latitude  housing_median_age  total_rooms  total_bedrooms  \\\n",
            "13000    -121.85     37.26                16.0       1982.0           280.0   \n",
            "13001    -121.85     37.26                16.0       1816.0           241.0   \n",
            "13002    -121.85     37.25                20.0       3773.0           624.0   \n",
            "13003    -121.85     37.24                17.0       6425.0          1268.0   \n",
            "13004    -121.85     36.61                38.0        238.0            72.0   \n",
            "...          ...       ...                 ...          ...             ...   \n",
            "13995    -122.04     37.37                33.0       2757.0           489.0   \n",
            "13996    -122.04     37.37                23.0       5135.0           911.0   \n",
            "13997    -122.04     37.35                28.0       3250.0           485.0   \n",
            "13998    -122.04     37.35                28.0       1582.0           264.0   \n",
            "13999    -122.04     37.34                28.0       3081.0           460.0   \n",
            "\n",
            "       population  households  median_income  median_house_value  \n",
            "13000      1030.0       297.0         6.4339            289200.0  \n",
            "13001       793.0       234.0         6.8194            291200.0  \n",
            "13002      1965.0       607.0         5.4939            241200.0  \n",
            "13003      3934.0      1238.0         5.1228            237600.0  \n",
            "13004       191.0        67.0         1.3897            125000.0  \n",
            "...           ...         ...            ...                 ...  \n",
            "13995      1201.0       481.0         5.0453            311600.0  \n",
            "13996      2351.0       863.0         5.2319            430100.0  \n",
            "13997      1328.0       473.0         7.4729            431600.0  \n",
            "13998       696.0       270.0         5.6780            370100.0  \n",
            "13999      1260.0       461.0         7.5372            432600.0  \n",
            "\n",
            "[1000 rows x 9 columns]\n",
            "---------------------\n",
            "       longitude  latitude  housing_median_age  total_rooms  total_bedrooms  \\\n",
            "14000    -122.04     37.34                25.0       1994.0           287.0   \n",
            "14001    -122.04     37.34                23.0       2590.0           725.0   \n",
            "14002    -122.04     37.34                20.0       4475.0          1048.0   \n",
            "14003    -122.04     37.34                19.0       3694.0          1036.0   \n",
            "14004    -122.04     37.33                26.0       2690.0           401.0   \n",
            "...          ...       ...                 ...          ...             ...   \n",
            "14995    -122.24     37.76                52.0       2567.0           436.0   \n",
            "14996    -122.24     37.76                52.0       2504.0           516.0   \n",
            "14997    -122.24     37.76                52.0       1846.0           471.0   \n",
            "14998    -122.24     37.76                49.0       2428.0           525.0   \n",
            "14999    -122.24     37.75                27.0       4051.0           753.0   \n",
            "\n",
            "       population  households  median_income  median_house_value  \n",
            "14000       704.0       283.0         7.7799            447300.0  \n",
            "14001      1795.0       680.0         3.1600            225000.0  \n",
            "14002      2271.0      1021.0         4.8836            396200.0  \n",
            "14003      2496.0       986.0         3.6991            271500.0  \n",
            "14004      1264.0       429.0         7.7643            474700.0  \n",
            "...           ...         ...            ...                 ...  \n",
            "14995      1119.0       415.0         4.6094            229300.0  \n",
            "14996       979.0       472.0         3.4762            244000.0  \n",
            "14997       827.0       446.0         2.6833            240900.0  \n",
            "14998      1110.0       492.0         3.6719            229800.0  \n",
            "14999      1499.0       797.0         4.8711            286600.0  \n",
            "\n",
            "[1000 rows x 9 columns]\n",
            "---------------------\n",
            "       longitude  latitude  housing_median_age  total_rooms  total_bedrooms  \\\n",
            "15000    -122.24     37.73                21.0       7031.0          1249.0   \n",
            "15001    -122.24     37.72                 5.0      18634.0          2885.0   \n",
            "15002    -122.24     37.49                30.0       2956.0           590.0   \n",
            "15003    -122.24     37.49                19.0        322.0           112.0   \n",
            "15004    -122.24     37.48                47.0       2423.0           407.0   \n",
            "...          ...       ...                 ...          ...             ...   \n",
            "15995    -122.44     37.78                52.0       2911.0           753.0   \n",
            "15996    -122.44     37.78                52.0       2747.0           736.0   \n",
            "15997    -122.44     37.78                52.0       2695.0           657.0   \n",
            "15998    -122.44     37.78                52.0       1118.0           279.0   \n",
            "15999    -122.44     37.78                44.0       1545.0           334.0   \n",
            "\n",
            "       population  households  median_income  median_house_value  \n",
            "15000      2930.0      1235.0         4.5213            228400.0  \n",
            "15001      7427.0      2718.0         7.6110            350700.0  \n",
            "15002      1191.0       594.0         3.7463            427600.0  \n",
            "15003       191.0       102.0         2.5833            500001.0  \n",
            "15004      1010.0       407.0         6.2154            362700.0  \n",
            "...           ...         ...            ...                 ...  \n",
            "15995      1696.0       676.0         2.5721            475000.0  \n",
            "15996      1309.0       653.0         2.9430            341700.0  \n",
            "15997      1243.0       573.0         2.8569            372200.0  \n",
            "15998       514.0       284.0         2.4196            346200.0  \n",
            "15999       561.0       326.0         3.8750            412500.0  \n",
            "\n",
            "[1000 rows x 9 columns]\n",
            "---------------------\n",
            "       longitude  latitude  housing_median_age  total_rooms  total_bedrooms  \\\n",
            "16000    -122.44     37.78                39.0       1181.0           310.0   \n",
            "16001    -122.44     37.78                31.0       1364.0           386.0   \n",
            "16002    -122.44     37.78                16.0        883.0           236.0   \n",
            "16003    -122.44     37.77                52.0       3505.0           745.0   \n",
            "16004    -122.44     37.77                52.0       3475.0           807.0   \n",
            "...          ...       ...                 ...          ...             ...   \n",
            "16995    -124.26     40.58                52.0       2217.0           394.0   \n",
            "16996    -124.27     40.69                36.0       2349.0           528.0   \n",
            "16997    -124.30     41.84                17.0       2677.0           531.0   \n",
            "16998    -124.30     41.80                19.0       2672.0           552.0   \n",
            "16999    -124.35     40.54                52.0       1820.0           300.0   \n",
            "\n",
            "       population  households  median_income  median_house_value  \n",
            "16000       901.0       281.0         1.4866            237500.0  \n",
            "16001       707.0       379.0         3.1607            293800.0  \n",
            "16002       601.0       219.0         2.1510            146900.0  \n",
            "16003      1374.0       714.0         4.3667            500001.0  \n",
            "16004      1518.0       777.0         3.6186            500001.0  \n",
            "...           ...         ...            ...                 ...  \n",
            "16995       907.0       369.0         2.3571            111400.0  \n",
            "16996      1194.0       465.0         2.5179             79000.0  \n",
            "16997      1244.0       456.0         3.0313            103600.0  \n",
            "16998      1298.0       478.0         1.9797             85800.0  \n",
            "16999       806.0       270.0         3.0147             94600.0  \n",
            "\n",
            "[1000 rows x 9 columns]\n"
          ]
        }
      ]
    },
    {
      "cell_type": "code",
      "source": [
        "import os, glob, shutil"
      ],
      "metadata": {
        "id": "tad7CJg7Ebdc"
      },
      "execution_count": null,
      "outputs": []
    },
    {
      "cell_type": "code",
      "source": [
        "csv_files=glob.glob('*.csv')\n",
        "for file in csv_files:\n",
        "  shutil.move(file,'/content/sample_data')"
      ],
      "metadata": {
        "id": "cGxQCRx1Eimn"
      },
      "execution_count": null,
      "outputs": []
    },
    {
      "cell_type": "code",
      "source": [
        "def export_data(df,filename,format):\n",
        "  if format=='csv':\n",
        "    df.to_csv(filename,index=False)\n",
        "  elif format=='excel':\n",
        "    df.to_excel(filename,index=False)"
      ],
      "metadata": {
        "id": "D9_DA-dCEtr3"
      },
      "execution_count": null,
      "outputs": []
    },
    {
      "cell_type": "code",
      "source": [
        "data={'Name':['Alice','Bob','Charlie',None],'Age':[25,30,35,40],'Salary':[5000,4000,None,1000]}\n",
        "df=pd.DataFrame(data)\n",
        "print(df.head())"
      ],
      "metadata": {
        "colab": {
          "base_uri": "https://localhost:8080/"
        },
        "id": "HP0bO0KcFDkW",
        "outputId": "a6666005-adbd-4ff2-980a-7f883c5cffc7"
      },
      "execution_count": null,
      "outputs": [
        {
          "output_type": "stream",
          "name": "stdout",
          "text": [
            "      Name  Age  Salary\n",
            "0    Alice   25  5000.0\n",
            "1      Bob   30  4000.0\n",
            "2  Charlie   35     NaN\n",
            "3     None   40  1000.0\n"
          ]
        }
      ]
    },
    {
      "cell_type": "code",
      "source": [
        "print(df.info())"
      ],
      "metadata": {
        "colab": {
          "base_uri": "https://localhost:8080/"
        },
        "id": "8EGI7AKJFu97",
        "outputId": "1469f565-5ca6-4c64-afda-45f3df954f32"
      },
      "execution_count": null,
      "outputs": [
        {
          "output_type": "stream",
          "name": "stdout",
          "text": [
            "<class 'pandas.core.frame.DataFrame'>\n",
            "RangeIndex: 4 entries, 0 to 3\n",
            "Data columns (total 3 columns):\n",
            " #   Column  Non-Null Count  Dtype  \n",
            "---  ------  --------------  -----  \n",
            " 0   Name    3 non-null      object \n",
            " 1   Age     4 non-null      int64  \n",
            " 2   Salary  3 non-null      float64\n",
            "dtypes: float64(1), int64(1), object(1)\n",
            "memory usage: 228.0+ bytes\n",
            "None\n"
          ]
        }
      ]
    },
    {
      "cell_type": "code",
      "source": [
        "print(df.dtypes)"
      ],
      "metadata": {
        "colab": {
          "base_uri": "https://localhost:8080/"
        },
        "id": "GZ95t-0eF9VY",
        "outputId": "0a6871fe-64ce-4f47-f1ee-a11be13102ba"
      },
      "execution_count": null,
      "outputs": [
        {
          "output_type": "stream",
          "name": "stdout",
          "text": [
            "Name       object\n",
            "Age         int64\n",
            "Salary    float64\n",
            "dtype: object\n"
          ]
        }
      ]
    },
    {
      "cell_type": "code",
      "source": [
        "print(df.tail(2))"
      ],
      "metadata": {
        "colab": {
          "base_uri": "https://localhost:8080/"
        },
        "id": "IyY1gZy7GC7z",
        "outputId": "ee45490b-59bc-4b9c-9835-88eb0d277c5d"
      },
      "execution_count": null,
      "outputs": [
        {
          "output_type": "stream",
          "name": "stdout",
          "text": [
            "      Name  Age  Salary\n",
            "2  Charlie   35     NaN\n",
            "3     None   40  1000.0\n"
          ]
        }
      ]
    },
    {
      "cell_type": "code",
      "source": [
        "print(df.sample(2))"
      ],
      "metadata": {
        "colab": {
          "base_uri": "https://localhost:8080/"
        },
        "id": "HJgg-PZ0GR27",
        "outputId": "a0cb0046-c59f-4355-dbdf-dbecde8782ac"
      },
      "execution_count": null,
      "outputs": [
        {
          "output_type": "stream",
          "name": "stdout",
          "text": [
            "    Name  Age  Salary\n",
            "3   None   40  1000.0\n",
            "0  Alice   25  5000.0\n"
          ]
        }
      ]
    },
    {
      "cell_type": "code",
      "source": [
        "print(df.describe())\n",
        "print(df.nunique())\n",
        "print(df.isnull().sum())"
      ],
      "metadata": {
        "colab": {
          "base_uri": "https://localhost:8080/"
        },
        "id": "EEs7rTk_GVrX",
        "outputId": "7851d0c2-9651-430b-f0ad-2141d72effff"
      },
      "execution_count": null,
      "outputs": [
        {
          "output_type": "stream",
          "name": "stdout",
          "text": [
            "             Age       Salary\n",
            "count   4.000000     3.000000\n",
            "mean   32.500000  3333.333333\n",
            "std     6.454972  2081.665999\n",
            "min    25.000000  1000.000000\n",
            "25%    28.750000  2500.000000\n",
            "50%    32.500000  4000.000000\n",
            "75%    36.250000  4500.000000\n",
            "max    40.000000  5000.000000\n",
            "Name      3\n",
            "Age       4\n",
            "Salary    3\n",
            "dtype: int64\n",
            "Name      1\n",
            "Age       0\n",
            "Salary    1\n",
            "dtype: int64\n"
          ]
        }
      ]
    },
    {
      "cell_type": "code",
      "source": [
        "import matplotlib.pyplot as plt\n",
        "\n",
        "print(df.duplicated().sum())"
      ],
      "metadata": {
        "colab": {
          "base_uri": "https://localhost:8080/"
        },
        "id": "zDHumwxhGrnb",
        "outputId": "20f8e197-3589-4379-ff04-03ca666b68d4"
      },
      "execution_count": null,
      "outputs": [
        {
          "output_type": "stream",
          "name": "stdout",
          "text": [
            "0\n"
          ]
        }
      ]
    },
    {
      "cell_type": "code",
      "source": [
        "df[['Age','Salary']].boxplot()\n",
        "plt.show()"
      ],
      "metadata": {
        "colab": {
          "base_uri": "https://localhost:8080/",
          "height": 430
        },
        "id": "sQ__7l8lHRHq",
        "outputId": "a9c39e63-db93-4726-b751-92164c555f6a"
      },
      "execution_count": null,
      "outputs": [
        {
          "output_type": "display_data",
          "data": {
            "text/plain": [
              "<Figure size 640x480 with 1 Axes>"
            ],
            "image/png": "[encoded data removed]"
          },
          "metadata": {}
        }
      ]
    },
    {
      "cell_type": "code",
      "source": [
        "import pandas as pd\n",
        "\n",
        "data = {\n",
        "    'Name': ['Alice', 'Bob', 'Charlie', 'David', 'Eva', 'Alice'],\n",
        "    'Age': [25, 30, 35, 40, 45, None],\n",
        "    'Salary': [50000, 60000, 70000, 80000, None, 50000]\n",
        "}\n",
        "df = pd.DataFrame(data)\n",
        "\n",
        "print(\"Original DataFrame:\")\n",
        "print(df)\n",
        "\n",
        "df_cleaned = df.dropna()\n",
        "print(\"\\nDataFrame After Dropping Missing Values:\")\n",
        "print(df_cleaned)\n",
        "\n",
        "df_filled = df.copy()\n",
        "df_filled['Salary'] = df_filled['Salary'].fillna(df_filled['Salary'].mean())\n",
        "df_filled['Age'] = df_filled['Age'].fillna(df_filled['Age'].mean())\n",
        "print(\"\\nDataFrame After Filling Missing Values with Mean:\")\n",
        "print(df_filled)\n",
        "\n",
        "df_unique = df.drop_duplicates()\n",
        "print(\"\\nDataFrame After Removing Duplicates:\")\n",
        "print(df_unique)\n",
        "\n",
        "df['Age'] = df['Age'].astype('Int64')\n",
        "print(\"\\nDataFrame After Changing Data Type of 'Age' to Int64:\")\n",
        "\n"
      ],
      "metadata": {
        "colab": {
          "base_uri": "https://localhost:8080/"
        },
        "id": "Qd7nCHb98mEt",
        "outputId": "2dcd81bc-6221-494d-da68-69324392afa8"
      },
      "execution_count": 2,
      "outputs": [
        {
          "output_type": "stream",
          "name": "stdout",
          "text": [
            "Original DataFrame:\n",
            "      Name   Age   Salary\n",
            "0    Alice  25.0  50000.0\n",
            "1      Bob  30.0  60000.0\n",
            "2  Charlie  35.0  70000.0\n",
            "3    David  40.0  80000.0\n",
            "4      Eva  45.0      NaN\n",
            "5    Alice   NaN  50000.0\n",
            "\n",
            "DataFrame After Dropping Missing Values:\n",
            "      Name   Age   Salary\n",
            "0    Alice  25.0  50000.0\n",
            "1      Bob  30.0  60000.0\n",
            "2  Charlie  35.0  70000.0\n",
            "3    David  40.0  80000.0\n",
            "\n",
            "DataFrame After Filling Missing Values with Mean:\n",
            "      Name   Age   Salary\n",
            "0    Alice  25.0  50000.0\n",
            "1      Bob  30.0  60000.0\n",
            "2  Charlie  35.0  70000.0\n",
            "3    David  40.0  80000.0\n",
            "4      Eva  45.0  62000.0\n",
            "5    Alice  35.0  50000.0\n",
            "\n",
            "DataFrame After Removing Duplicates:\n",
            "      Name   Age   Salary\n",
            "0    Alice  25.0  50000.0\n",
            "1      Bob  30.0  60000.0\n",
            "2  Charlie  35.0  70000.0\n",
            "3    David  40.0  80000.0\n",
            "4      Eva  45.0      NaN\n",
            "5    Alice   NaN  50000.0\n",
            "\n",
            "DataFrame After Changing Data Type of 'Age' to Int64:\n"
          ]
        }
      ]
    },
    {
      "cell_type": "code",
      "source": [
        "import pandas as pd\n",
        "\n",
        "data = {\n",
        "    'Name': ['Alice', 'Bob', 'Charlie', 'David', 'Eva', 'Alice'],\n",
        "    'Age': [25, 30, 35, 40, 45, 25],\n",
        "    'Salary': [50000, 60000, 70000, 80000, 75000, 50000]\n",
        "}\n",
        "\n",
        "df = pd.DataFrame(data)\n",
        "\n",
        "print(\"Correlation Matrix:\")\n",
        "print(df[['Age', 'Salary']].corr())\n",
        "\n",
        "print(\"\\nGrouped Data (Mean of Age and Salary by Name):\")\n",
        "print(df.groupby('Name', as_index=False).mean())\n",
        "\n"
      ],
      "metadata": {
        "id": "NxrSBsAtH0qe",
        "colab": {
          "base_uri": "https://localhost:8080/"
        },
        "outputId": "92d41cc1-6a33-49f0-ed6f-3cd433b57745"
      },
      "execution_count": 1,
      "outputs": [
        {
          "output_type": "stream",
          "name": "stdout",
          "text": [
            "Correlation Matrix:\n",
            "             Age    Salary\n",
            "Age     1.000000  0.939948\n",
            "Salary  0.939948  1.000000\n",
            "\n",
            "Grouped Data (Mean of Age and Salary by Name):\n",
            "      Name   Age   Salary\n",
            "0    Alice  25.0  50000.0\n",
            "1      Bob  30.0  60000.0\n",
            "2  Charlie  35.0  70000.0\n",
            "3    David  40.0  80000.0\n",
            "4      Eva  45.0  75000.0\n"
          ]
        }
      ]
    }
  ]
}