{
  "nbformat": 4,
  "nbformat_minor": 0,
  "metadata": {
    "colab": {
      "provenance": [],
      "authorship_tag": "ABX9TyPaoTDKRPoX7xajtFqyM6f1",
      "include_colab_link": true
    },
    "kernelspec": {
      "name": "python3",
      "display_name": "Python 3"
    },
    "language_info": {
      "name": "python"
    }
  },
  "cells": [
    {
      "cell_type": "markdown",
      "metadata": {
        "id": "view-in-github",
        "colab_type": "text"
      },
      "source": [
        "<a href=\"https://colab.research.google.com/github/KhuzaimaHassan/IT-Training/blob/main/3rd-Class/Assignment_3rdClass.ipynb\" target=\"_parent\"><img src=\"https://colab.research.google.com/assets/colab-badge.svg\" alt=\"Open In Colab\"/></a>"
      ]
    },
    {
      "cell_type": "markdown",
      "source": [
        "**1. Implement a to-do list application where users can add,\n",
        "remove, and view tasks**"
      ],
      "metadata": {
        "id": "yYJXUHRJqed1"
      }
    },
    {
      "cell_type": "code",
      "execution_count": 12,
      "metadata": {
        "id": "51N3RP8smSMC",
        "colab": {
          "base_uri": "https://localhost:8080/"
        },
        "outputId": "d1af3263-2215-4fe9-9759-63fd15abcad6"
      },
      "outputs": [
        {
          "output_type": "stream",
          "name": "stdout",
          "text": [
            "Finish homework\n",
            "Buy groceries\n",
            "Finish homework\n"
          ]
        }
      ],
      "source": [
        "from collections.abc import ValuesView\n",
        "tasks=[]\n",
        "def add_task(task):\n",
        "    tasks.append(task)\n",
        "\n",
        "def remove_task(task):\n",
        "    if task in tasks:\n",
        "        tasks.remove(task)\n",
        "        view_tasks()\n",
        "    else:\n",
        "        print(\"Task not found:\",task)\n",
        "\n",
        "def view_tasks():\n",
        "  for task in tasks:\n",
        "    print(task)\n",
        "\n",
        "add_task('Finish homework')\n",
        "add_task('Buy groceries')\n",
        "view_tasks()\n",
        "remove_task('Buy groceries')\n"
      ]
    },
    {
      "cell_type": "markdown",
      "source": [
        "**3. Create a Simple Phonebook Using Dictionaries**"
      ],
      "metadata": {
        "id": "BGFa-CdUuxdP"
      }
    },
    {
      "cell_type": "code",
      "source": [
        "phonebook={}\n",
        "def add_contact(name,number):\n",
        "    phonebook[name]=number\n",
        "\n",
        "def get_number(name):\n",
        "    return phonebook.get(name,\"Contact not found\")\n",
        "\n",
        "add_contact(\"Alice\",\"1234567890\")\n",
        "add_contact(\"Bob\",\"9876543210\")\n",
        "print(get_number(\"Alice\"))"
      ],
      "metadata": {
        "colab": {
          "base_uri": "https://localhost:8080/"
        },
        "id": "c_0OI448ut7T",
        "outputId": "37ad002f-f534-485b-b900-48bbabe95df2"
      },
      "execution_count": null,
      "outputs": [
        {
          "output_type": "stream",
          "name": "stdout",
          "text": [
            "1234567890\n"
          ]
        }
      ]
    },
    {
      "cell_type": "markdown",
      "source": [
        "**4. Inventory System (Using Dictionaries)**"
      ],
      "metadata": {
        "id": "S9uggRBEvTbp"
      }
    },
    {
      "cell_type": "code",
      "source": [
        "inventory={}\n",
        "def add_item(item,quantity):\n",
        "  if item in inventory:\n",
        "    inventory[item]+=quantity\n",
        "  else:\n",
        "    inventory[item]=quantity\n",
        "\n",
        "def remove_item(item,quantity):\n",
        "  if item in inventory and inventory[item]>=quantity:\n",
        "    inventory[item]-=quantity\n",
        "    if inventory[item]==0:\n",
        "      del inventory[item]\n",
        "  else:\n",
        "    print(f\"Insufficient quantity of {item}.\")\n",
        "\n",
        "def view_inventory():\n",
        "  for item,quantity in inventory.items():\n",
        "    print(f\"{item}:{quantity}\")\n",
        "\n",
        "add_item(\"Apple\",10)\n",
        "add_item(\"Banana\",5)\n",
        "remove_item(\"Apple\",3)\n",
        "view_inventory()\n"
      ],
      "metadata": {
        "colab": {
          "base_uri": "https://localhost:8080/"
        },
        "id": "h1mBYMpUvMrX",
        "outputId": "b75c6eac-44e8-4f34-e06b-95bb1b5f2c3a"
      },
      "execution_count": null,
      "outputs": [
        {
          "output_type": "stream",
          "name": "stdout",
          "text": [
            "Apple:7\n",
            "Banana:5\n"
          ]
        }
      ]
    },
    {
      "cell_type": "markdown",
      "source": [
        "**5. ATM System Simulation with Global Variables**"
      ],
      "metadata": {
        "id": "SXpAHYIJxYM0"
      }
    },
    {
      "cell_type": "code",
      "source": [
        "def deposit(balance,amount):\n",
        "  balance+=amount\n",
        "  print(f\"Deposited: {amount}. New balance: {balance}\")\n",
        "  return balance\n",
        "\n",
        "def withdraw(balance,amount):\n",
        "  if amount<=balance:\n",
        "    balance-=amount\n",
        "    print(f\"Withdrew: {amount}. New balance: {balance}\")\n",
        "  else:\n",
        "    print(\"Insufficient funds.\")\n",
        "  return balance\n",
        "\n",
        "def check_balance(balance):\n",
        "  print(f\"Current balance: {balance}\")\n",
        "\n",
        "balance=1000\n",
        "balance=deposit(balance,500)\n",
        "balance=withdraw(balance,200)\n",
        "check_balance(balance)"
      ],
      "metadata": {
        "colab": {
          "base_uri": "https://localhost:8080/"
        },
        "id": "9p3cc_YYwih6",
        "outputId": "476ef649-f539-460b-b465-c4a50bf76002"
      },
      "execution_count": null,
      "outputs": [
        {
          "output_type": "stream",
          "name": "stdout",
          "text": [
            "Deposited: 500. New balance: 1500\n",
            "Withdrew: 200. New balance: 1300\n",
            "Current balance: 1300\n"
          ]
        }
      ]
    },
    {
      "cell_type": "markdown",
      "source": [
        "**2. Find Maximum and Minimum Values in a List**"
      ],
      "metadata": {
        "id": "DbamZmDn7dHd"
      }
    },
    {
      "cell_type": "code",
      "source": [
        "def find_max_min(lst):\n",
        "    if not lst:\n",
        "        return None,None\n",
        "    max_val=lst[0]\n",
        "    min_val=lst[0]\n",
        "# Compare Each Number to Find Maximum and Minimum\n",
        "    for num in lst:\n",
        "        if num>max_val:\n",
        "            max_val=num\n",
        "\n",
        "        elif num<min_val:\n",
        "            min_val=num\n",
        "\n",
        "    return max_val,min_val #Return the Maximum and Minimum Values\n",
        "numbers=[3,9,2,8,1]\n",
        "max_val,min_val=find_max_min(numbers)\n",
        "print(f\"Max: {max_val}, Min: {min_val}\")\n"
      ],
      "metadata": {
        "id": "5em4kDNYykE1",
        "colab": {
          "base_uri": "https://localhost:8080/"
        },
        "outputId": "2ef358ff-34ba-45dc-e3a3-5dcd790318f2"
      },
      "execution_count": 21,
      "outputs": [
        {
          "output_type": "stream",
          "name": "stdout",
          "text": [
            "Max: 9, Min: 1\n"
          ]
        }
      ]
    }
  ]
}