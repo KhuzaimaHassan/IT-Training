{
  "nbformat": 4,
  "nbformat_minor": 0,
  "metadata": {
    "colab": {
      "provenance": [],
      "authorship_tag": "ABX9TyOldUXVZmxf8//oRi+Jz1Tw",
      "include_colab_link": true
    },
    "kernelspec": {
      "name": "python3",
      "display_name": "Python 3"
    },
    "language_info": {
      "name": "python"
    }
  },
  "cells": [
    {
      "cell_type": "markdown",
      "metadata": {
        "id": "view-in-github",
        "colab_type": "text"
      },
      "source": [
        "<a href=\"https://colab.research.google.com/github/KhuzaimaHassan/IT-Training/blob/main/3rd-Class/3rd_Class.ipynb\" target=\"_parent\"><img src=\"https://colab.research.google.com/assets/colab-badge.svg\" alt=\"Open In Colab\"/></a>"
      ]
    },
    {
      "cell_type": "code",
      "execution_count": null,
      "metadata": {
        "colab": {
          "base_uri": "https://localhost:8080/"
        },
        "id": "PmdQs9Eyqpwv",
        "outputId": "2e05d42f-aff6-4665-a938-310055143c35"
      },
      "outputs": [
        {
          "output_type": "stream",
          "name": "stdout",
          "text": [
            "you are not eligible to vote\n"
          ]
        }
      ],
      "source": [
        "age=16\n",
        "if age>=18:\n",
        "    print(\"you are eligible to vote\")\n",
        "else:\n",
        "    print(\"you are not eligible to vote\")"
      ]
    },
    {
      "cell_type": "code",
      "source": [
        "num=4\n",
        "if num%2==0:\n",
        "    print(\"number is even\")\n",
        "else:\n",
        "    print(\"number is odd\")"
      ],
      "metadata": {
        "colab": {
          "base_uri": "https://localhost:8080/"
        },
        "id": "9hChX2ZBzFPR",
        "outputId": "6e6a2c6c-b338-4311-bbcb-06b005342dd1"
      },
      "execution_count": null,
      "outputs": [
        {
          "output_type": "stream",
          "name": "stdout",
          "text": [
            "number is even\n"
          ]
        }
      ]
    },
    {
      "cell_type": "code",
      "source": [
        "marks=75\n",
        "if marks>=90:\n",
        "    print(\"grade A+\")\n",
        "elif marks>=80:\n",
        "    print(\"grade A\")\n",
        "elif marks>=70:\n",
        "    print(\"grade B\")\n",
        "elif marks<50:\n",
        "    print(\"fail\")\n",
        "\n",
        "else:\n",
        "    print(\"grade C\")\n"
      ],
      "metadata": {
        "colab": {
          "base_uri": "https://localhost:8080/"
        },
        "id": "oeODXhILqv5D",
        "outputId": "badbea97-8182-4ff8-ea45-7688504c8887"
      },
      "execution_count": null,
      "outputs": [
        {
          "output_type": "stream",
          "name": "stdout",
          "text": [
            "grade B\n"
          ]
        }
      ]
    },
    {
      "cell_type": "code",
      "source": [
        "num=15\n",
        "if num>10:\n",
        "   print(\"number is greater than 10\")\n",
        "   if num%2==0:\n",
        "       print(\"number is even\")\n",
        "   else:\n",
        "       print(\"number is odd\")"
      ],
      "metadata": {
        "colab": {
          "base_uri": "https://localhost:8080/"
        },
        "id": "gb4RPdcA3otk",
        "outputId": "93d64cb8-e44a-4280-c873-53fe6c604684"
      },
      "execution_count": null,
      "outputs": [
        {
          "output_type": "stream",
          "name": "stdout",
          "text": [
            "number is greater than 10\n",
            "number is odd\n"
          ]
        }
      ]
    },
    {
      "cell_type": "code",
      "source": [
        "is_adult=True\n",
        "has_voter_id=False\n",
        "if is_adult and has_voter_id:\n",
        "    print(\"you are eligible to vote\")\n",
        "else:\n",
        "    print(\"you are not eligible to vote\")"
      ],
      "metadata": {
        "colab": {
          "base_uri": "https://localhost:8080/"
        },
        "id": "9400rx3n4QxW",
        "outputId": "903a41c4-0b7a-4c87-d431-f42c2a555c4c"
      },
      "execution_count": null,
      "outputs": [
        {
          "output_type": "stream",
          "name": "stdout",
          "text": [
            "you are not eligible to vote\n"
          ]
        }
      ]
    },
    {
      "cell_type": "code",
      "source": [
        "age=20\n",
        "message='Adult' if age>=18 else 'Minor'\n",
        "\n",
        "print(message)"
      ],
      "metadata": {
        "colab": {
          "base_uri": "https://localhost:8080/"
        },
        "id": "LL3ij2yX4jcg",
        "outputId": "b74d3b40-e0d3-45f4-a556-2b3f22beaa2d"
      },
      "execution_count": null,
      "outputs": [
        {
          "output_type": "stream",
          "name": "stdout",
          "text": [
            "Adult\n"
          ]
        }
      ]
    },
    {
      "cell_type": "code",
      "source": [
        "color='red'\n",
        "match color:\n",
        "  case 'red':\n",
        "    print('Stop')\n",
        "  case 'yellow':\n",
        "    print('Slow')\n",
        "  case 'green':\n",
        "    print('Go')\n",
        "  case _:\n",
        "    print('Invalid color')"
      ],
      "metadata": {
        "colab": {
          "base_uri": "https://localhost:8080/"
        },
        "id": "Le_KVbra5BUx",
        "outputId": "235548db-d45e-47ca-ebd5-726ca1bbadc4"
      },
      "execution_count": null,
      "outputs": [
        {
          "output_type": "stream",
          "name": "stdout",
          "text": [
            "Stop\n"
          ]
        }
      ]
    },
    {
      "cell_type": "code",
      "source": [
        "fruits=['apple','banana','cherry']\n",
        "for fruit in fruits:\n",
        "    print(fruit)\n",
        "for char in 'Python':\n",
        "    print(char)"
      ],
      "metadata": {
        "colab": {
          "base_uri": "https://localhost:8080/"
        },
        "id": "uLmeFITH5q1o",
        "outputId": "a94722ac-74d4-46dd-ec93-65e22eacd900"
      },
      "execution_count": null,
      "outputs": [
        {
          "output_type": "stream",
          "name": "stdout",
          "text": [
            "apple\n",
            "banana\n",
            "cherry\n",
            "P\n",
            "y\n",
            "t\n",
            "h\n",
            "o\n",
            "n\n"
          ]
        }
      ]
    },
    {
      "cell_type": "code",
      "source": [
        "person={'name':'John','age':25,'city':'New York','gender':'female'}\n",
        "for key,value in person.items():\n",
        "    print(f\"{key}: {value}\")"
      ],
      "metadata": {
        "colab": {
          "base_uri": "https://localhost:8080/"
        },
        "id": "up0X_Iez5-MB",
        "outputId": "cb0bc0d1-7d4f-4d3e-b886-c624ed60087d"
      },
      "execution_count": null,
      "outputs": [
        {
          "output_type": "stream",
          "name": "stdout",
          "text": [
            "name: John\n",
            "age: 25\n",
            "city: New York\n",
            "gender: female\n"
          ]
        }
      ]
    },
    {
      "cell_type": "code",
      "source": [
        "for i in range(5):\n",
        "  print(i)\n",
        "for i in range(1,10,2):\n",
        "  print(i)"
      ],
      "metadata": {
        "colab": {
          "base_uri": "https://localhost:8080/"
        },
        "id": "4hhprLWe7ATG",
        "outputId": "3b35075f-5139-433a-a32d-ddf143a2d6a3"
      },
      "execution_count": null,
      "outputs": [
        {
          "output_type": "stream",
          "name": "stdout",
          "text": [
            "0\n",
            "1\n",
            "2\n",
            "3\n",
            "4\n",
            "1\n",
            "3\n",
            "5\n",
            "7\n",
            "9\n"
          ]
        }
      ]
    },
    {
      "cell_type": "code",
      "source": [
        "count=0\n",
        "while count<5:\n",
        "  print(f\"count: {count}\")\n",
        "  count+=1\n",
        "  print(f\"After Count: {count}\")"
      ],
      "metadata": {
        "colab": {
          "base_uri": "https://localhost:8080/"
        },
        "id": "mW9Jqo1u7ZEp",
        "outputId": "108c2dd6-c024-4073-aa1b-04e2f6a63e46"
      },
      "execution_count": null,
      "outputs": [
        {
          "output_type": "stream",
          "name": "stdout",
          "text": [
            "count: 0\n",
            "After Count: 1\n",
            "count: 1\n",
            "After Count: 2\n",
            "count: 2\n",
            "After Count: 3\n",
            "count: 3\n",
            "After Count: 4\n",
            "count: 4\n",
            "After Count: 5\n"
          ]
        }
      ]
    },
    {
      "cell_type": "code",
      "source": [
        "while True:\n",
        "  user_input=input(\"Enter a number (or 'q' to quit):\")\n",
        "  if user_input=='q':\n",
        "    print(\"quitting the loop\")\n",
        "    break\n"
      ],
      "metadata": {
        "colab": {
          "base_uri": "https://localhost:8080/"
        },
        "id": "Cv585UPI8VHR",
        "outputId": "9964389b-3f5d-4088-9e92-a0736573a925"
      },
      "execution_count": null,
      "outputs": [
        {
          "output_type": "stream",
          "name": "stdout",
          "text": [
            "Enter a number (or 'q' to quit):1\n",
            "Enter a number (or 'q' to quit):2\n",
            "Enter a number (or 'q' to quit):r\n",
            "Enter a number (or 'q' to quit):q\n",
            "quitting the loop\n"
          ]
        }
      ]
    },
    {
      "cell_type": "code",
      "source": [
        "for i in range(10):\n",
        "  if i==5:\n",
        "    print(\"Breaking the loop\")\n",
        "    break\n",
        "  print(i)\n",
        "\n",
        "for i in range(10):\n",
        "  if i%2!=0:\n",
        "    continue\n",
        "  print(i)"
      ],
      "metadata": {
        "colab": {
          "base_uri": "https://localhost:8080/"
        },
        "id": "74b8xc7z9CjY",
        "outputId": "520425e7-2385-45e5-9813-8c12ada48221"
      },
      "execution_count": null,
      "outputs": [
        {
          "output_type": "stream",
          "name": "stdout",
          "text": [
            "0\n",
            "1\n",
            "2\n",
            "3\n",
            "4\n",
            "Breaking the loop\n",
            "0\n",
            "2\n",
            "4\n",
            "6\n",
            "8\n"
          ]
        }
      ]
    },
    {
      "cell_type": "code",
      "source": [
        "for i in range(5):\n",
        "  print(f'Processing {i}')\n",
        "for i in range(5):\n",
        "  if i==3:\n",
        "    pass\n",
        "    print(f'Processing {i}')"
      ],
      "metadata": {
        "colab": {
          "base_uri": "https://localhost:8080/"
        },
        "id": "ZQ2036Zk9aXb",
        "outputId": "fbf1206e-5040-4c50-fe9a-5c59f9aef56c"
      },
      "execution_count": null,
      "outputs": [
        {
          "output_type": "stream",
          "name": "stdout",
          "text": [
            "Processing 0\n",
            "Processing 1\n",
            "Processing 2\n",
            "Processing 3\n",
            "Processing 4\n",
            "Processing 3\n"
          ]
        }
      ]
    },
    {
      "cell_type": "code",
      "source": [
        "for i in range(1,6):\n",
        "  for j in range(1,6):\n",
        "    print(f'{i}x{j}={i*j}')\n",
        "  print()"
      ],
      "metadata": {
        "colab": {
          "base_uri": "https://localhost:8080/"
        },
        "id": "N2CXVjXV9_pF",
        "outputId": "30d7ae4e-6d0a-4b2c-873e-483d170eb81c"
      },
      "execution_count": null,
      "outputs": [
        {
          "output_type": "stream",
          "name": "stdout",
          "text": [
            "1x1=1\n",
            "1x2=2\n",
            "1x3=3\n",
            "1x4=4\n",
            "1x5=5\n",
            "\n",
            "2x1=2\n",
            "2x2=4\n",
            "2x3=6\n",
            "2x4=8\n",
            "2x5=10\n",
            "\n",
            "3x1=3\n",
            "3x2=6\n",
            "3x3=9\n",
            "3x4=12\n",
            "3x5=15\n",
            "\n",
            "4x1=4\n",
            "4x2=8\n",
            "4x3=12\n",
            "4x4=16\n",
            "4x5=20\n",
            "\n",
            "5x1=5\n",
            "5x2=10\n",
            "5x3=15\n",
            "5x4=20\n",
            "5x5=25\n",
            "\n"
          ]
        }
      ]
    },
    {
      "cell_type": "code",
      "source": [
        "for num in range(5):\n",
        "  print(num)\n",
        "else:\n",
        "  print(\"Loop completed successfully\")"
      ],
      "metadata": {
        "colab": {
          "base_uri": "https://localhost:8080/"
        },
        "id": "OCDfynM6_Dc1",
        "outputId": "32022d2a-0841-44fa-d524-1e69c7087fb5"
      },
      "execution_count": null,
      "outputs": [
        {
          "output_type": "stream",
          "name": "stdout",
          "text": [
            "0\n",
            "1\n",
            "2\n",
            "3\n",
            "4\n",
            "Loop completed successfully\n"
          ]
        }
      ]
    },
    {
      "cell_type": "code",
      "source": [
        "for num in range(5):\n",
        "  if num==3:\n",
        "    print(\"Breaking the loop\")\n",
        "    break\n",
        "  print(num)\n",
        "else:\n",
        "  print(\"Loop completed without printing this\")\n"
      ],
      "metadata": {
        "colab": {
          "base_uri": "https://localhost:8080/"
        },
        "id": "Fp3Avm51AA8p",
        "outputId": "6cdbb982-1dde-4761-c4e6-da4341ed502c"
      },
      "execution_count": null,
      "outputs": [
        {
          "output_type": "stream",
          "name": "stdout",
          "text": [
            "0\n",
            "1\n",
            "2\n",
            "Breaking the loop\n"
          ]
        }
      ]
    },
    {
      "cell_type": "code",
      "source": [
        "nums=[1,2,3,4,5]\n",
        "search=5\n",
        "for num in nums:\n",
        "  if num==search:\n",
        "    print(f'{search} found in the list')\n",
        "    break\n",
        "else:\n",
        "  print(f'{search} not found in the list')"
      ],
      "metadata": {
        "colab": {
          "base_uri": "https://localhost:8080/"
        },
        "id": "5uYOC_OsARUw",
        "outputId": "e1c3aaef-c112-43d2-afd0-f762b667fd7c"
      },
      "execution_count": null,
      "outputs": [
        {
          "output_type": "stream",
          "name": "stdout",
          "text": [
            "5 found in the list\n"
          ]
        }
      ]
    },
    {
      "cell_type": "code",
      "source": [
        "def greet():\n",
        "  print(\"hello\")\n",
        "\n",
        "def greet_user(name):\n",
        "  print(f'Hello, {name}!')\n",
        "\n",
        "greet()\n",
        "greet_user('John')"
      ],
      "metadata": {
        "colab": {
          "base_uri": "https://localhost:8080/"
        },
        "id": "a0ZWfNnKAZ1b",
        "outputId": "1f197f23-9d64-49dc-dbac-ddd1a417869f"
      },
      "execution_count": null,
      "outputs": [
        {
          "output_type": "stream",
          "name": "stdout",
          "text": [
            "hello\n",
            "Hello, John!\n"
          ]
        }
      ]
    },
    {
      "cell_type": "code",
      "source": [
        "def add(a,b):\n",
        "  return a+b\n",
        "result=add(3,4)\n",
        "print(result)\n",
        "\n",
        "def display_info(name,age):\n",
        "  print(f'Name: {name}')\n",
        "  print(f'Age: {age}')\n",
        "display_info(age=25,name='John')\n"
      ],
      "metadata": {
        "colab": {
          "base_uri": "https://localhost:8080/"
        },
        "id": "v8x2WAU8Asx8",
        "outputId": "e9399a23-4685-48d8-cb4a-bbad86899c01"
      },
      "execution_count": null,
      "outputs": [
        {
          "output_type": "stream",
          "name": "stdout",
          "text": [
            "7\n",
            "Name: John\n",
            "Age: 25\n"
          ]
        }
      ]
    },
    {
      "cell_type": "code",
      "source": [
        "def calculate(a,b):\n",
        "  return a+b,a-b\n",
        "sum,difference=calculate(5,3)\n",
        "print(f'Sum: {sum}')\n",
        "print(f'Difference: {difference}')"
      ],
      "metadata": {
        "colab": {
          "base_uri": "https://localhost:8080/"
        },
        "id": "mZZqY71aBi7e",
        "outputId": "a0df97d1-2e29-4f0a-886c-2cf589cb95fd"
      },
      "execution_count": null,
      "outputs": [
        {
          "output_type": "stream",
          "name": "stdout",
          "text": [
            "Sum: 8\n",
            "Difference: 2\n"
          ]
        }
      ]
    },
    {
      "cell_type": "code",
      "source": [
        "def greet(name='Guest'):\n",
        "  print(f'Hello, {name}!')\n",
        "greet()\n",
        "greet('Khuzaima')\n",
        "greet(name='Khuzaima')"
      ],
      "metadata": {
        "colab": {
          "base_uri": "https://localhost:8080/"
        },
        "id": "nTt0lhXZCG1O",
        "outputId": "2af7eaf1-3542-42b6-e26e-3c128047a6e2"
      },
      "execution_count": null,
      "outputs": [
        {
          "output_type": "stream",
          "name": "stdout",
          "text": [
            "Hello, Guest!\n",
            "Hello, Khuzaima!\n",
            "Hello, Khuzaima!\n"
          ]
        }
      ]
    },
    {
      "cell_type": "code",
      "source": [
        "def print_args(*args):\n",
        "  for arg in args:\n",
        "    print(arg)\n",
        "print_args(1,2,3,'hello')\n"
      ],
      "metadata": {
        "colab": {
          "base_uri": "https://localhost:8080/"
        },
        "id": "ICiixbt0CmF_",
        "outputId": "c939fdcb-1028-479d-c46d-1ef8fe227e55"
      },
      "execution_count": null,
      "outputs": [
        {
          "output_type": "stream",
          "name": "stdout",
          "text": [
            "1\n",
            "2\n",
            "3\n",
            "hello\n"
          ]
        }
      ]
    },
    {
      "cell_type": "code",
      "source": [
        "def print_kwargs(**kwargs):\n",
        "  for key,value in kwargs.items():\n",
        "    print(f'{key}: {value}')\n",
        "print_kwargs(name='John',age=25)"
      ],
      "metadata": {
        "colab": {
          "base_uri": "https://localhost:8080/"
        },
        "id": "WzZsITTsDW0A",
        "outputId": "2a23197d-e287-46f1-ed70-275127d366e3"
      },
      "execution_count": null,
      "outputs": [
        {
          "output_type": "stream",
          "name": "stdout",
          "text": [
            "name: John\n",
            "age: 25\n"
          ]
        }
      ]
    },
    {
      "cell_type": "code",
      "source": [
        "square=lambda x:x**2\n",
        "result=square(5)\n",
        "print(result)\n"
      ],
      "metadata": {
        "colab": {
          "base_uri": "https://localhost:8080/"
        },
        "id": "WBXD4z3iDnkJ",
        "outputId": "cf1b01d3-f480-42d8-ddda-3f952211cf37"
      },
      "execution_count": null,
      "outputs": [
        {
          "output_type": "stream",
          "name": "stdout",
          "text": [
            "25\n"
          ]
        }
      ]
    },
    {
      "cell_type": "code",
      "source": [],
      "metadata": {
        "id": "n-a8fmEpEODm"
      },
      "execution_count": null,
      "outputs": []
    }
  ]
}