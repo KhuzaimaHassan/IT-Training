{
  "nbformat": 4,
  "nbformat_minor": 0,
  "metadata": {
    "colab": {
      "provenance": [],
      "authorship_tag": "ABX9TyNWf1z/QE4DR6rRzSE2GP3P",
      "include_colab_link": true
    },
    "kernelspec": {
      "name": "python3",
      "display_name": "Python 3"
    },
    "language_info": {
      "name": "python"
    }
  },
  "cells": [
    {
      "cell_type": "markdown",
      "metadata": {
        "id": "view-in-github",
        "colab_type": "text"
      },
      "source": [
        "<a href=\"https://colab.research.google.com/github/KhuzaimaHassan/IT-Training/blob/main/Assignment_2ndClass.ipynb\" target=\"_parent\"><img src=\"https://colab.research.google.com/assets/colab-badge.svg\" alt=\"Open In Colab\"/></a>"
      ]
    },
    {
      "cell_type": "markdown",
      "source": [
        "**1. Name Formatter and Length Calculator**"
      ],
      "metadata": {
        "id": "UPAhq7Ong1qF"
      }
    },
    {
      "cell_type": "code",
      "execution_count": 1,
      "metadata": {
        "colab": {
          "base_uri": "https://localhost:8080/"
        },
        "id": "b-4ZordsT69h",
        "outputId": "1fb4a51b-5fba-44b8-a262-0effaec63136"
      },
      "outputs": [
        {
          "output_type": "stream",
          "name": "stdout",
          "text": [
            "Enter your First name: Khuzaima\n",
            "Enter your last name: Hassan\n",
            "First name (upper): KHUZAIMA\n",
            "Last name (lower): hassan\n",
            "Sum of letters in your first and last name: 14\n"
          ]
        }
      ],
      "source": [
        "\n",
        "\n",
        "#Input your first name and last name\n",
        "first_name = input(\"Enter your First name: \")\n",
        "last_name = input(\"Enter your last name: \")\n",
        "\n",
        "#Convert first name to uppercase and last name to lowercase\n",
        "first_name = first_name.upper()\n",
        "last_name = last_name.lower()\n",
        "\n",
        "#Calculate and print the sum of the letters\n",
        "total_letters = len(first_name) + len(last_name)\n",
        "\n",
        "#Print the first name in uppercase, last name in lowercase, and the total letters\n",
        "print(f\"First name (upper): {first_name}\")\n",
        "print(f\"Last name (lower): {last_name}\")\n",
        "print(\"Sum of letters in your first and last name:\", total_letters)"
      ]
    },
    {
      "cell_type": "markdown",
      "source": [
        "**2. Simple Area Calculator for various shapes**"
      ],
      "metadata": {
        "id": "OMz-wgYrhBZk"
      }
    },
    {
      "cell_type": "code",
      "source": [
        "# Input Shape Choice from User\n",
        "print(\"Calculate the area of following shapes:\")\n",
        "print(\"1. Circle\")\n",
        "print(\"2. Rectangle\")\n",
        "print(\"3. Square\")\n",
        "print(\"4. Triangle\")\n",
        "\n",
        "shape = input(\"Enter the shape you want to calculate the area of: \")\n",
        "print(f\"Finding the Area of {shape}:\")\n",
        "\n",
        "# Circle area calculation\n",
        "radius = float(input(\"Enter the radius of the circle: \"))\n",
        "area =  3.14 * radius**2\n",
        "print(\"The area of the circle is:\", area, \"\\n\")\n"
      ],
      "metadata": {
        "colab": {
          "base_uri": "https://localhost:8080/"
        },
        "id": "22fL91sxcT_w",
        "outputId": "06f5a29e-d0d4-4ecd-8d80-3d020e124b73"
      },
      "execution_count": 4,
      "outputs": [
        {
          "output_type": "stream",
          "name": "stdout",
          "text": [
            "Calculate the area of following shapes:\n",
            "1. Circle\n",
            "2. Rectangle\n",
            "3. Square\n",
            "4. Triangle\n",
            "Enter the shape you want to calculate the area of: Circle\n",
            "Finding the Area of Circle:\n",
            "Enter the radius of the circle: 4\n",
            "The area of the circle is: 50.24 \n",
            "\n"
          ]
        }
      ]
    },
    {
      "cell_type": "code",
      "source": [
        "shape = input(\"Enter the shape you want to calculate the area of: \")\n",
        "print(f\"Finding the Area of {shape}:\")\n",
        "\n",
        "# Rectangle area calculation\n",
        "length = float(input(\"Enter the length of rectangle: \"))\n",
        "width = float(input(\"Enter the width of rectangle: \"))\n",
        "area = length * width\n",
        "print(\"The area of the rectangle is:\",area, \"\\n\")"
      ],
      "metadata": {
        "colab": {
          "base_uri": "https://localhost:8080/"
        },
        "id": "AEZWbATBkEXs",
        "outputId": "5e99cb6d-0e4d-4227-fc0e-bf9edb64bc87"
      },
      "execution_count": 6,
      "outputs": [
        {
          "output_type": "stream",
          "name": "stdout",
          "text": [
            "Enter the shape you want to calculate the area of: Rectangle\n",
            "Finding the Area of Rectangle:\n",
            "Enter the length of rectangle: 4.5\n",
            "Enter the width of rectangle: 4\n",
            "The area of the rectangle is: 18.0 \n",
            "\n"
          ]
        }
      ]
    },
    {
      "cell_type": "code",
      "source": [
        "shape = input(\"Enter the shape you want to calculate the area of: \")\n",
        "print(f\"Finding the Area of {shape}:\")\n",
        "\n",
        "# Square area calculation\n",
        "side = float(input(\"Enter the side length of the square: \"))\n",
        "area =  side**2\n",
        "print(\"The area of the square is:\", area, \"\\n\")"
      ],
      "metadata": {
        "colab": {
          "base_uri": "https://localhost:8080/"
        },
        "id": "Fr6n2pHXkYkI",
        "outputId": "7c21cd95-4023-4132-a395-79b4e8a7fc30"
      },
      "execution_count": 7,
      "outputs": [
        {
          "output_type": "stream",
          "name": "stdout",
          "text": [
            "Enter the shape you want to calculate the area of: Square\n",
            "Finding the Area of Square:\n",
            "Enter the side length of the square: 4\n",
            "The area of the square is: 16.0 \n",
            "\n"
          ]
        }
      ]
    },
    {
      "cell_type": "code",
      "source": [
        "shape = input(\"Enter the shape you want to calculate the area of: \")\n",
        "print(f\"Finding the Area of {shape}:\")\n",
        "\n",
        "# Triangle area calculation\n",
        "base = float(input(\"Enter the base of triangle: \"))\n",
        "height = float(input (\"Enter the height of triangle: \"))\n",
        "area =  0.5 * base * height\n",
        "print(\"The area of the triangle is:\", area, \"\\n\")"
      ],
      "metadata": {
        "colab": {
          "base_uri": "https://localhost:8080/"
        },
        "id": "gTiskQGnkmJI",
        "outputId": "c26378fc-5387-4338-d781-d53f6b236771"
      },
      "execution_count": 10,
      "outputs": [
        {
          "output_type": "stream",
          "name": "stdout",
          "text": [
            "Enter the shape you want to calculate the area of: Triangle\n",
            "Finding the Area of Triangle:\n",
            "Enter the base of triangle: 4\n",
            "Enter the height of triangle: 3\n",
            "The area of the triangle is: 6.0 \n",
            "\n"
          ]
        }
      ]
    },
    {
      "cell_type": "markdown",
      "source": [
        "**3. Random Color-Based Password Generator in Python**"
      ],
      "metadata": {
        "id": "LMo9ayculwSW"
      }
    },
    {
      "cell_type": "code",
      "source": [
        "import random\n",
        "colors = ['Red','Blue','Green','White','Black','Grey']\n",
        "index = random.randint(0,len(colors)-1)\n",
        "selected_color = colors[index]\n",
        "password = selected_color[::-1]\n",
        "print(f\"The Selected Color is {selected_color}\")\n",
        "print(f\"The Password is {password}\")\n",
        ""
      ],
      "metadata": {
        "colab": {
          "base_uri": "https://localhost:8080/"
        },
        "id": "znvXeZ9Rleck",
        "outputId": "5f52c843-1b91-48ef-91b9-9aaa74bc78b5"
      },
      "execution_count": 11,
      "outputs": [
        {
          "output_type": "stream",
          "name": "stdout",
          "text": [
            "The Selected Color is Grey\n",
            "The Password is yerG\n"
          ]
        }
      ]
    }
  ]
}